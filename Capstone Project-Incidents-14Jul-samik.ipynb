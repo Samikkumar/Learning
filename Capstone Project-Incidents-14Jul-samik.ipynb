{
 "cells": [
  {
   "cell_type": "markdown",
   "metadata": {},
   "source": [
    "# Capstone Project - Auto Ticket Assignment to the right IT Functional Groups"
   ]
  },
  {
   "cell_type": "markdown",
   "metadata": {},
   "source": [
    "# Text Classification with Machine Learning"
   ]
  },
  {
   "cell_type": "markdown",
   "metadata": {},
   "source": [
    "## Agenda\n",
    "\n",
    "1. Model building in scikit-learn (refresher)\n",
    "2. Representing text as numerical data\n",
    "3. Reading a text-based dataset into pandas\n",
    "4. Vectorizing our dataset\n",
    "5. Building and evaluating a model\n",
    "6. Comparing models\n",
    "7. Examining a model for further insight\n",
    "8. Tuning the vectorizer"
   ]
  },
  {
   "cell_type": "markdown",
   "metadata": {},
   "source": [
    "## 1: Model building in scikit-learn"
   ]
  },
  {
   "cell_type": "code",
   "execution_count": 171,
   "metadata": {},
   "outputs": [],
   "source": [
    "import warnings\n",
    "warnings.filterwarnings('ignore')"
   ]
  },
  {
   "cell_type": "code",
   "execution_count": 172,
   "metadata": {},
   "outputs": [],
   "source": [
    "# Load libraries\n",
    "import numpy as np\n",
    "from numpy import arange\n",
    "from matplotlib import pyplot\n",
    "import pandas as pd\n",
    "from pandas import read_csv\n",
    "from pandas import set_option\n",
    "from pandas.plotting import scatter_matrix\n",
    "import seaborn as sns\n",
    "from sklearn.model_selection import train_test_split\n",
    "from sklearn.model_selection import KFold\n",
    "from sklearn.model_selection import cross_val_score\n",
    "from sklearn.model_selection import GridSearchCV\n",
    "from sklearn.linear_model import LinearRegression\n",
    "from sklearn.linear_model import Lasso\n",
    "from sklearn.linear_model import Ridge\n",
    "from sklearn.tree import DecisionTreeRegressor\n",
    "from sklearn.neighbors import KNeighborsRegressor\n",
    "from sklearn.pipeline import Pipeline\n",
    "from sklearn.ensemble import RandomForestRegressor\n",
    "from sklearn.ensemble import AdaBoostRegressor\n",
    "from sklearn.metrics import mean_squared_error\n",
    "from sklearn.metrics import r2_score\n",
    "%matplotlib inline\n",
    "\n",
    "# SVM\n",
    "from sklearn import svm\n",
    "\n",
    "# Feature Engineering:\n",
    "from mlxtend.feature_selection import SequentialFeatureSelector as sfs\n",
    "from mlxtend.plotting import plot_sequential_feature_selection as plot_sfs\n",
    "import matplotlib.pyplot as plt\n",
    "\n",
    "# Clustering:\n",
    "from sklearn.cluster import KMeans\n",
    "\n",
    "# metrics:\n",
    "from sklearn import metrics\n",
    "from sklearn.metrics import accuracy_score\n",
    "\n",
    "# Label Encoding:\n",
    "from sklearn.preprocessing import LabelEncoder\n",
    "\n",
    "# Grid Search:\n",
    "import multiprocessing \n",
    "\n",
    "# Imputer:\n",
    "from sklearn.preprocessing import Imputer\n",
    "\n",
    "# Zscores and Scaler:\n",
    "from scipy.stats import zscore\n",
    "from sklearn.preprocessing import StandardScaler\n",
    "from sklearn import preprocessing\n",
    "from sklearn.preprocessing import RobustScaler\n",
    "from sklearn.preprocessing import MinMaxScaler\n",
    "\n",
    "\n",
    "# Decision Trees DT\n",
    "#import graphviz\n",
    "#from IPython.display import Image  \n",
    "\n",
    "# PCA:\n",
    "from sklearn.decomposition import PCA\n",
    "\n",
    "# OS:\n",
    "from os import system\n",
    "\n",
    "from sklearn.feature_selection import SelectKBest\n",
    "from sklearn.feature_selection import chi2\n",
    "from sklearn.ensemble import ExtraTreesClassifier\n",
    "\n",
    "from statsmodels.stats.outliers_influence import variance_inflation_factor\n",
    "from statsmodels.tools.tools import add_constant\n",
    "\n",
    "from keras.layers import Reshape, Dense, Flatten, Dropout,MaxPooling2D, BatchNormalization\n",
    "from keras.layers.convolutional import Conv2D\n",
    "from keras.models import Sequential\n",
    "from keras.optimizers import SGD\n",
    "import matplotlib.pyplot as plt\n",
    "from keras.callbacks import EarlyStopping\n",
    "from sklearn.metrics import make_scorer\n",
    "from keras.wrappers.scikit_learn import KerasClassifier\n",
    "from keras.utils import to_categorical\n",
    "import tensorflow as tf\n",
    "%matplotlib inline\n",
    "from sklearn.feature_extraction.text import CountVectorizer\n",
    "\n",
    "\n",
    "import pandas as pd\n",
    "import numpy as np\n",
    "from nltk.tokenize import word_tokenize\n",
    "from nltk import pos_tag\n",
    "from nltk.corpus import stopwords\n",
    "from nltk.stem import WordNetLemmatizer\n",
    "from sklearn.preprocessing import LabelEncoder\n",
    "from collections import defaultdict\n",
    "from nltk.corpus import wordnet as wn\n",
    "from sklearn.feature_extraction.text import TfidfVectorizer\n",
    "from sklearn import model_selection, naive_bayes, svm\n",
    "from sklearn.metrics import accuracy_score\n",
    "from sklearn.metrics import classification_report\n",
    "from sklearn.naive_bayes import MultinomialNB\n",
    "# import these modules \n",
    "from nltk.stem import PorterStemmer\n",
    "from nltk.stem.snowball import SnowballStemmer\n",
    "\n",
    "\n",
    "from sklearn.metrics import cohen_kappa_score\n",
    "#from xgboost import XGBClassifier\n",
    "#from xgboost import plot_importance\n",
    "\n",
    "from wordcloud import WordCloud, STOPWORDS, ImageColorGenerator"
   ]
  },
  {
   "cell_type": "code",
   "execution_count": 173,
   "metadata": {},
   "outputs": [],
   "source": [
    "# Load datasets from various excel files\n",
    "df1 = pd.read_excel(\"incident-Jul 2016-Oct2016.xlsx\")\n",
    "df2 = pd.read_excel(\"incident-Nov 2016-Feb2017.xlsx\")\n",
    "df3 = pd.read_excel(\"incident-Mar 2017-Jun2017.xlsx\")\n",
    "df4 = pd.read_excel(\"incident-Jul 2017-Oct2017.xlsx\")\n",
    "df5 = pd.read_excel(\"incident-Nov 2017-Feb2018.xlsx\")\n",
    "df6 = pd.read_excel(\"incident-Mar 2018-Jun2018.xlsx\")\n",
    "df7 = pd.read_excel(\"incident-Jul 2018-Oct2018.xlsx\")"
   ]
  },
  {
   "cell_type": "code",
   "execution_count": 174,
   "metadata": {},
   "outputs": [],
   "source": [
    "# Load Test data set separately\n",
    "df_val = pd.read_excel(\"incident-Nov 2018-Feb2019-Test.xlsx\")"
   ]
  },
  {
   "cell_type": "code",
   "execution_count": null,
   "metadata": {},
   "outputs": [],
   "source": [
    "# Load Test data set separately\n",
    "df_map = pd.read_excel(\"GROUP MAPPING.xlsx\")"
   ]
  },
  {
   "cell_type": "code",
   "execution_count": null,
   "metadata": {},
   "outputs": [],
   "source": [
    "df_map.head()"
   ]
  },
  {
   "cell_type": "code",
   "execution_count": 175,
   "metadata": {},
   "outputs": [
    {
     "name": "stdout",
     "output_type": "stream",
     "text": [
      "df1 shape - (25420, 12)\n",
      "df2 shape - (24240, 12)\n",
      "df3 shape - (25230, 12)\n",
      "df4 shape - (23479, 12)\n",
      "df5 shape - (24306, 12)\n",
      "df6 shape - (25238, 12)\n",
      "df7 shape - (26986, 12)\n",
      "Validation Data shape - (25661, 12)\n"
     ]
    }
   ],
   "source": [
    "# Look at the shape / number of records in each file\n",
    "print(\"df1 shape -\", df1.shape)\n",
    "print(\"df2 shape -\", df2.shape)\n",
    "print(\"df3 shape -\", df3.shape)\n",
    "print(\"df4 shape -\", df4.shape)\n",
    "print(\"df5 shape -\", df5.shape)\n",
    "print(\"df6 shape -\", df6.shape)\n",
    "print(\"df7 shape -\", df7.shape)\n",
    "print(\"Validation Data shape -\", df_val.shape)"
   ]
  },
  {
   "cell_type": "code",
   "execution_count": 176,
   "metadata": {},
   "outputs": [
    {
     "data": {
      "text/plain": [
       "174899"
      ]
     },
     "execution_count": 176,
     "metadata": {},
     "output_type": "execute_result"
    }
   ],
   "source": [
    "# Get the overall size of the dataset / number of records\n",
    "test = (df1.shape[0] + df2.shape[0] + df3.shape[0] + df4.shape[0] + df5.shape[0] + df6.shape[0] + df7.shape[0])\n",
    "test"
   ]
  },
  {
   "cell_type": "code",
   "execution_count": 177,
   "metadata": {},
   "outputs": [
    {
     "data": {
      "text/plain": [
       "Index(['Number', 'Priority', 'Caller [Incident]', 'Assignment group',\n",
       "       'Created', 'Assigned to', 'Caller', 'Department', 'Short description',\n",
       "       'Description', 'Resolved', 'Reassignment count'],\n",
       "      dtype='object')"
      ]
     },
     "execution_count": 177,
     "metadata": {},
     "output_type": "execute_result"
    }
   ],
   "source": [
    "df_val.columns"
   ]
  },
  {
   "cell_type": "code",
   "execution_count": 178,
   "metadata": {},
   "outputs": [
    {
     "data": {
      "text/html": [
       "<div>\n",
       "<style scoped>\n",
       "    .dataframe tbody tr th:only-of-type {\n",
       "        vertical-align: middle;\n",
       "    }\n",
       "\n",
       "    .dataframe tbody tr th {\n",
       "        vertical-align: top;\n",
       "    }\n",
       "\n",
       "    .dataframe thead th {\n",
       "        text-align: right;\n",
       "    }\n",
       "</style>\n",
       "<table border=\"1\" class=\"dataframe\">\n",
       "  <thead>\n",
       "    <tr style=\"text-align: right;\">\n",
       "      <th></th>\n",
       "      <th>Number</th>\n",
       "      <th>Priority</th>\n",
       "      <th>Caller [Incident]</th>\n",
       "      <th>Assignment group</th>\n",
       "      <th>Created</th>\n",
       "      <th>Assigned to</th>\n",
       "      <th>Caller</th>\n",
       "      <th>Department</th>\n",
       "      <th>Short description</th>\n",
       "      <th>Description</th>\n",
       "      <th>Resolved</th>\n",
       "      <th>Reassignment count</th>\n",
       "    </tr>\n",
       "  </thead>\n",
       "  <tbody>\n",
       "    <tr>\n",
       "      <th>0</th>\n",
       "      <td>INC0454829</td>\n",
       "      <td>Sev4–Single User Issue-Not Urgent &lt;=20 Days Resolution</td>\n",
       "      <td>Brian Conrad</td>\n",
       "      <td>GSO - Service Desk</td>\n",
       "      <td>2016-10-31 23:40:58</td>\n",
       "      <td>Tarun Vakharia</td>\n",
       "      <td>Brian Conrad</td>\n",
       "      <td>IFBG</td>\n",
       "      <td>login issue</td>\n",
       "      <td>-Verified user details.(Employee# &amp; Manager name)\\n-Checked the user name in AD and reset the pa...</td>\n",
       "      <td>2016-10-31 23:40:58</td>\n",
       "      <td>0</td>\n",
       "    </tr>\n",
       "    <tr>\n",
       "      <th>1</th>\n",
       "      <td>INC0454813</td>\n",
       "      <td>Sev4–Single User Issue-Not Urgent &lt;=20 Days Resolution</td>\n",
       "      <td>Kim Walker</td>\n",
       "      <td>GSO - Service Desk</td>\n",
       "      <td>2016-10-31 22:42:56</td>\n",
       "      <td>Tarun Vakharia</td>\n",
       "      <td>Kim Walker</td>\n",
       "      <td>INBG</td>\n",
       "      <td>OUTLOOK</td>\n",
       "      <td>\\n\\nreceived from: kim.walker@kennametal.com\\n\\nHello team,\\n\\nMy meetings/skype meetings etc ar...</td>\n",
       "      <td>2016-10-31 23:59:10</td>\n",
       "      <td>0</td>\n",
       "    </tr>\n",
       "  </tbody>\n",
       "</table>\n",
       "</div>"
      ],
      "text/plain": [
       "       Number                                                Priority  \\\n",
       "0  INC0454829  Sev4–Single User Issue-Not Urgent <=20 Days Resolution   \n",
       "1  INC0454813  Sev4–Single User Issue-Not Urgent <=20 Days Resolution   \n",
       "\n",
       "  Caller [Incident]    Assignment group             Created     Assigned to  \\\n",
       "0      Brian Conrad  GSO - Service Desk 2016-10-31 23:40:58  Tarun Vakharia   \n",
       "1        Kim Walker  GSO - Service Desk 2016-10-31 22:42:56  Tarun Vakharia   \n",
       "\n",
       "         Caller Department Short description  \\\n",
       "0  Brian Conrad       IFBG       login issue   \n",
       "1    Kim Walker       INBG           OUTLOOK   \n",
       "\n",
       "                                                                                           Description  \\\n",
       "0  -Verified user details.(Employee# & Manager name)\\n-Checked the user name in AD and reset the pa...   \n",
       "1  \\n\\nreceived from: kim.walker@kennametal.com\\n\\nHello team,\\n\\nMy meetings/skype meetings etc ar...   \n",
       "\n",
       "             Resolved  Reassignment count  \n",
       "0 2016-10-31 23:40:58                   0  \n",
       "1 2016-10-31 23:59:10                   0  "
      ]
     },
     "execution_count": 178,
     "metadata": {},
     "output_type": "execute_result"
    }
   ],
   "source": [
    "# concatenate all the files into one dataframe\n",
    "frames = [df1, df2, df3, df4, df5, df6, df7]\n",
    "sn_df = pd.concat(frames)\n",
    "sn_df.head(2)"
   ]
  },
  {
   "cell_type": "code",
   "execution_count": 179,
   "metadata": {},
   "outputs": [
    {
     "data": {
      "text/html": [
       "<div>\n",
       "<style scoped>\n",
       "    .dataframe tbody tr th:only-of-type {\n",
       "        vertical-align: middle;\n",
       "    }\n",
       "\n",
       "    .dataframe tbody tr th {\n",
       "        vertical-align: top;\n",
       "    }\n",
       "\n",
       "    .dataframe thead th {\n",
       "        text-align: right;\n",
       "    }\n",
       "</style>\n",
       "<table border=\"1\" class=\"dataframe\">\n",
       "  <thead>\n",
       "    <tr style=\"text-align: right;\">\n",
       "      <th></th>\n",
       "      <th>Number</th>\n",
       "      <th>Priority</th>\n",
       "      <th>Caller [Incident]</th>\n",
       "      <th>Assignment group</th>\n",
       "      <th>Created</th>\n",
       "      <th>Assigned to</th>\n",
       "      <th>Caller</th>\n",
       "      <th>Department</th>\n",
       "      <th>Short description</th>\n",
       "      <th>Description</th>\n",
       "      <th>Resolved</th>\n",
       "      <th>Reassignment count</th>\n",
       "    </tr>\n",
       "  </thead>\n",
       "  <tbody>\n",
       "    <tr>\n",
       "      <th>0</th>\n",
       "      <td>INC0759016</td>\n",
       "      <td>Sev4–Single User Issue-Not Urgent &lt;=20 Days Resolution</td>\n",
       "      <td>Nishant Mahere</td>\n",
       "      <td>GSO - Service Desk</td>\n",
       "      <td>2019-02-28 22:55:57</td>\n",
       "      <td>Swastik Goswami</td>\n",
       "      <td>Nishant Mahere</td>\n",
       "      <td>IFBG</td>\n",
       "      <td>Regarding SAP Login</td>\n",
       "      <td>\\n\\nreceived from: Nishant.Mahere@kennametal.com\\n\\nHi,\\n\\nI am facing issue with SAP login. Req...</td>\n",
       "      <td>2019-02-28 23:36:22</td>\n",
       "      <td>0</td>\n",
       "    </tr>\n",
       "    <tr>\n",
       "      <th>1</th>\n",
       "      <td>INC0759012</td>\n",
       "      <td>Sev4–Single User Issue-Not Urgent &lt;=20 Days Resolution</td>\n",
       "      <td>Shawn Blevins</td>\n",
       "      <td>GSO - Service Desk</td>\n",
       "      <td>2019-02-28 22:51:57</td>\n",
       "      <td>Swastik Goswami</td>\n",
       "      <td>Shawn Blevins</td>\n",
       "      <td>HRES</td>\n",
       "      <td>Potential Phish: [External] Snelling - Best of Staffing® 2019 Client Satisfaction Award!</td>\n",
       "      <td>\\n\\nreceived from: shawn.blevins@kennametal.com\\n\\n</td>\n",
       "      <td>2019-02-28 23:46:20</td>\n",
       "      <td>0</td>\n",
       "    </tr>\n",
       "  </tbody>\n",
       "</table>\n",
       "</div>"
      ],
      "text/plain": [
       "       Number                                                Priority  \\\n",
       "0  INC0759016  Sev4–Single User Issue-Not Urgent <=20 Days Resolution   \n",
       "1  INC0759012  Sev4–Single User Issue-Not Urgent <=20 Days Resolution   \n",
       "\n",
       "  Caller [Incident]    Assignment group             Created      Assigned to  \\\n",
       "0    Nishant Mahere  GSO - Service Desk 2019-02-28 22:55:57  Swastik Goswami   \n",
       "1     Shawn Blevins  GSO - Service Desk 2019-02-28 22:51:57  Swastik Goswami   \n",
       "\n",
       "           Caller Department  \\\n",
       "0  Nishant Mahere       IFBG   \n",
       "1   Shawn Blevins       HRES   \n",
       "\n",
       "                                                                           Short description  \\\n",
       "0                                                                        Regarding SAP Login   \n",
       "1  Potential Phish: [External] Snelling - Best of Staffing® 2019 Client Satisfaction Award!    \n",
       "\n",
       "                                                                                           Description  \\\n",
       "0  \\n\\nreceived from: Nishant.Mahere@kennametal.com\\n\\nHi,\\n\\nI am facing issue with SAP login. Req...   \n",
       "1                                                  \\n\\nreceived from: shawn.blevins@kennametal.com\\n\\n   \n",
       "\n",
       "             Resolved  Reassignment count  \n",
       "0 2019-02-28 23:36:22                   0  \n",
       "1 2019-02-28 23:46:20                   0  "
      ]
     },
     "execution_count": 179,
     "metadata": {},
     "output_type": "execute_result"
    }
   ],
   "source": [
    "df_val.head(2)"
   ]
  },
  {
   "cell_type": "code",
   "execution_count": 180,
   "metadata": {},
   "outputs": [
    {
     "data": {
      "text/plain": [
       "(174899, 12)"
      ]
     },
     "execution_count": 180,
     "metadata": {},
     "output_type": "execute_result"
    }
   ],
   "source": [
    "sn_df.shape"
   ]
  },
  {
   "cell_type": "code",
   "execution_count": null,
   "metadata": {},
   "outputs": [],
   "source": [
    "mydict = dict(zip(df_map['AG'],df_map['New AG']))\n",
    "sn_df['Assignment group new'] = sn_df['Assignment group'].map(mydict)"
   ]
  },
  {
   "cell_type": "code",
   "execution_count": null,
   "metadata": {},
   "outputs": [],
   "source": [
    "mydict"
   ]
  },
  {
   "cell_type": "code",
   "execution_count": null,
   "metadata": {},
   "outputs": [],
   "source": [
    "mydict1 = dict(zip(df_map['AG'],df_map['New AG']))\n",
    "df_val['Assignment group new'] = df_val['Assignment group'].map(mydict1)"
   ]
  },
  {
   "cell_type": "code",
   "execution_count": 181,
   "metadata": {},
   "outputs": [
    {
     "data": {
      "text/html": [
       "<div>\n",
       "<style scoped>\n",
       "    .dataframe tbody tr th:only-of-type {\n",
       "        vertical-align: middle;\n",
       "    }\n",
       "\n",
       "    .dataframe tbody tr th {\n",
       "        vertical-align: top;\n",
       "    }\n",
       "\n",
       "    .dataframe thead th {\n",
       "        text-align: right;\n",
       "    }\n",
       "</style>\n",
       "<table border=\"1\" class=\"dataframe\">\n",
       "  <thead>\n",
       "    <tr style=\"text-align: right;\">\n",
       "      <th></th>\n",
       "      <th>Number</th>\n",
       "      <th>Priority</th>\n",
       "      <th>Caller [Incident]</th>\n",
       "      <th>Assignment group</th>\n",
       "      <th>Created</th>\n",
       "      <th>Assigned to</th>\n",
       "      <th>Caller</th>\n",
       "      <th>Department</th>\n",
       "      <th>Short description</th>\n",
       "      <th>Description</th>\n",
       "      <th>Resolved</th>\n",
       "      <th>Reassignment count</th>\n",
       "    </tr>\n",
       "  </thead>\n",
       "  <tbody>\n",
       "    <tr>\n",
       "      <th>0</th>\n",
       "      <td>INC0454829</td>\n",
       "      <td>Sev4–Single User Issue-Not Urgent &lt;=20 Days Resolution</td>\n",
       "      <td>Brian Conrad</td>\n",
       "      <td>GSO - Service Desk</td>\n",
       "      <td>2016-10-31 23:40:58</td>\n",
       "      <td>Tarun Vakharia</td>\n",
       "      <td>Brian Conrad</td>\n",
       "      <td>IFBG</td>\n",
       "      <td>login issue</td>\n",
       "      <td>-Verified user details.(Employee# &amp; Manager name)\\n-Checked the user name in AD and reset the pa...</td>\n",
       "      <td>2016-10-31 23:40:58</td>\n",
       "      <td>0</td>\n",
       "    </tr>\n",
       "  </tbody>\n",
       "</table>\n",
       "</div>"
      ],
      "text/plain": [
       "       Number                                                Priority  \\\n",
       "0  INC0454829  Sev4–Single User Issue-Not Urgent <=20 Days Resolution   \n",
       "\n",
       "  Caller [Incident]    Assignment group             Created     Assigned to  \\\n",
       "0      Brian Conrad  GSO - Service Desk 2016-10-31 23:40:58  Tarun Vakharia   \n",
       "\n",
       "         Caller Department Short description  \\\n",
       "0  Brian Conrad       IFBG       login issue   \n",
       "\n",
       "                                                                                           Description  \\\n",
       "0  -Verified user details.(Employee# & Manager name)\\n-Checked the user name in AD and reset the pa...   \n",
       "\n",
       "             Resolved  Reassignment count  \n",
       "0 2016-10-31 23:40:58                   0  "
      ]
     },
     "execution_count": 181,
     "metadata": {},
     "output_type": "execute_result"
    }
   ],
   "source": [
    "sn_df.head(1)"
   ]
  },
  {
   "cell_type": "code",
   "execution_count": 182,
   "metadata": {},
   "outputs": [
    {
     "data": {
      "text/html": [
       "<div>\n",
       "<style scoped>\n",
       "    .dataframe tbody tr th:only-of-type {\n",
       "        vertical-align: middle;\n",
       "    }\n",
       "\n",
       "    .dataframe tbody tr th {\n",
       "        vertical-align: top;\n",
       "    }\n",
       "\n",
       "    .dataframe thead th {\n",
       "        text-align: right;\n",
       "    }\n",
       "</style>\n",
       "<table border=\"1\" class=\"dataframe\">\n",
       "  <thead>\n",
       "    <tr style=\"text-align: right;\">\n",
       "      <th></th>\n",
       "      <th>Number</th>\n",
       "      <th>Priority</th>\n",
       "      <th>Caller [Incident]</th>\n",
       "      <th>Assignment group</th>\n",
       "      <th>Created</th>\n",
       "      <th>Assigned to</th>\n",
       "      <th>Caller</th>\n",
       "      <th>Department</th>\n",
       "      <th>Short description</th>\n",
       "      <th>Description</th>\n",
       "      <th>Resolved</th>\n",
       "      <th>Reassignment count</th>\n",
       "    </tr>\n",
       "  </thead>\n",
       "  <tbody>\n",
       "    <tr>\n",
       "      <th>25660</th>\n",
       "      <td>GREQ0311049</td>\n",
       "      <td>4–Single User Issue-Not Urgent &lt;=45 Days Resolution</td>\n",
       "      <td>Silke Stoeckert</td>\n",
       "      <td>Solutioning</td>\n",
       "      <td>2015-07-21 07:28:42</td>\n",
       "      <td>Susanne Noster</td>\n",
       "      <td>Silke Stoeckert</td>\n",
       "      <td>FINA</td>\n",
       "      <td>Commission invoices via SAP SD / Provisionsabrechnungen über SAP-SD</td>\n",
       "      <td>Commission invoices are currently partly manually handled partly via SD . The documents that are...</td>\n",
       "      <td>2019-01-21 09:40:22</td>\n",
       "      <td>0</td>\n",
       "    </tr>\n",
       "  </tbody>\n",
       "</table>\n",
       "</div>"
      ],
      "text/plain": [
       "            Number                                             Priority  \\\n",
       "25660  GREQ0311049  4–Single User Issue-Not Urgent <=45 Days Resolution   \n",
       "\n",
       "      Caller [Incident] Assignment group             Created     Assigned to  \\\n",
       "25660   Silke Stoeckert      Solutioning 2015-07-21 07:28:42  Susanne Noster   \n",
       "\n",
       "                Caller Department  \\\n",
       "25660  Silke Stoeckert       FINA   \n",
       "\n",
       "                                                         Short description  \\\n",
       "25660  Commission invoices via SAP SD / Provisionsabrechnungen über SAP-SD   \n",
       "\n",
       "                                                                                               Description  \\\n",
       "25660  Commission invoices are currently partly manually handled partly via SD . The documents that are...   \n",
       "\n",
       "                 Resolved  Reassignment count  \n",
       "25660 2019-01-21 09:40:22                   0  "
      ]
     },
     "execution_count": 182,
     "metadata": {},
     "output_type": "execute_result"
    }
   ],
   "source": [
    "df_val.tail(1)"
   ]
  },
  {
   "cell_type": "markdown",
   "metadata": {},
   "source": [
    "#### Data PREPROCESS "
   ]
  },
  {
   "cell_type": "code",
   "execution_count": null,
   "metadata": {},
   "outputs": [],
   "source": [
    "AG= pd.value_counts(sn_df['Assignment group new'].values, sort=True)\n",
    "pd.DataFrame(AG).to_csv('Distict_group.csv')"
   ]
  },
  {
   "cell_type": "code",
   "execution_count": null,
   "metadata": {},
   "outputs": [],
   "source": [
    "AG.plot(kind='bar',figsize = (15,8))"
   ]
  },
  {
   "cell_type": "code",
   "execution_count": 183,
   "metadata": {},
   "outputs": [
    {
     "data": {
      "text/html": [
       "<div>\n",
       "<style scoped>\n",
       "    .dataframe tbody tr th:only-of-type {\n",
       "        vertical-align: middle;\n",
       "    }\n",
       "\n",
       "    .dataframe tbody tr th {\n",
       "        vertical-align: top;\n",
       "    }\n",
       "\n",
       "    .dataframe thead th {\n",
       "        text-align: right;\n",
       "    }\n",
       "</style>\n",
       "<table border=\"1\" class=\"dataframe\">\n",
       "  <thead>\n",
       "    <tr style=\"text-align: right;\">\n",
       "      <th></th>\n",
       "      <th>Number</th>\n",
       "      <th>Priority</th>\n",
       "      <th>Caller [Incident]</th>\n",
       "      <th>Assignment group</th>\n",
       "      <th>Created</th>\n",
       "      <th>Assigned to</th>\n",
       "      <th>Caller</th>\n",
       "      <th>Department</th>\n",
       "      <th>Short description</th>\n",
       "      <th>Description</th>\n",
       "      <th>Resolved</th>\n",
       "      <th>Reassignment count</th>\n",
       "      <th>Type</th>\n",
       "      <th>Severity</th>\n",
       "    </tr>\n",
       "  </thead>\n",
       "  <tbody>\n",
       "    <tr>\n",
       "      <th>0</th>\n",
       "      <td>INC0454829</td>\n",
       "      <td>Sev4–Single User Issue-Not Urgent &lt;=20 Days Resolution</td>\n",
       "      <td>Brian Conrad</td>\n",
       "      <td>GSO - Service Desk</td>\n",
       "      <td>2016-10-31 23:40:58</td>\n",
       "      <td>Tarun Vakharia</td>\n",
       "      <td>Brian Conrad</td>\n",
       "      <td>IFBG</td>\n",
       "      <td>login issue</td>\n",
       "      <td>-Verified user details.(Employee# &amp; Manager name)\\n-Checked the user name in AD and reset the pa...</td>\n",
       "      <td>2016-10-31 23:40:58</td>\n",
       "      <td>0</td>\n",
       "      <td>INC</td>\n",
       "      <td>Sev4</td>\n",
       "    </tr>\n",
       "    <tr>\n",
       "      <th>1</th>\n",
       "      <td>INC0454813</td>\n",
       "      <td>Sev4–Single User Issue-Not Urgent &lt;=20 Days Resolution</td>\n",
       "      <td>Kim Walker</td>\n",
       "      <td>GSO - Service Desk</td>\n",
       "      <td>2016-10-31 22:42:56</td>\n",
       "      <td>Tarun Vakharia</td>\n",
       "      <td>Kim Walker</td>\n",
       "      <td>INBG</td>\n",
       "      <td>OUTLOOK</td>\n",
       "      <td>\\n\\nreceived from: kim.walker@kennametal.com\\n\\nHello team,\\n\\nMy meetings/skype meetings etc ar...</td>\n",
       "      <td>2016-10-31 23:59:10</td>\n",
       "      <td>0</td>\n",
       "      <td>INC</td>\n",
       "      <td>Sev4</td>\n",
       "    </tr>\n",
       "  </tbody>\n",
       "</table>\n",
       "</div>"
      ],
      "text/plain": [
       "       Number                                                Priority  \\\n",
       "0  INC0454829  Sev4–Single User Issue-Not Urgent <=20 Days Resolution   \n",
       "1  INC0454813  Sev4–Single User Issue-Not Urgent <=20 Days Resolution   \n",
       "\n",
       "  Caller [Incident]    Assignment group             Created     Assigned to  \\\n",
       "0      Brian Conrad  GSO - Service Desk 2016-10-31 23:40:58  Tarun Vakharia   \n",
       "1        Kim Walker  GSO - Service Desk 2016-10-31 22:42:56  Tarun Vakharia   \n",
       "\n",
       "         Caller Department Short description  \\\n",
       "0  Brian Conrad       IFBG       login issue   \n",
       "1    Kim Walker       INBG           OUTLOOK   \n",
       "\n",
       "                                                                                           Description  \\\n",
       "0  -Verified user details.(Employee# & Manager name)\\n-Checked the user name in AD and reset the pa...   \n",
       "1  \\n\\nreceived from: kim.walker@kennametal.com\\n\\nHello team,\\n\\nMy meetings/skype meetings etc ar...   \n",
       "\n",
       "             Resolved  Reassignment count Type Severity  \n",
       "0 2016-10-31 23:40:58                   0  INC     Sev4  \n",
       "1 2016-10-31 23:59:10                   0  INC     Sev4  "
      ]
     },
     "execution_count": 183,
     "metadata": {},
     "output_type": "execute_result"
    }
   ],
   "source": [
    "# Create a Type column with first 3 letters from Number - Incident - INC or Generic Request - GRE\n",
    "sn_df[\"Type\"] = sn_df[\"Number\"].str[0:3]\n",
    "df_val[\"Type\"] = df_val[\"Number\"].str[0:3]\n",
    "sn_df[\"Severity\"] = sn_df[\"Priority\"].str[0:4]\n",
    "df_val[\"Severity\"] = df_val[\"Priority\"].str[0:4]\n",
    "sn_df.head(2)"
   ]
  },
  {
   "cell_type": "code",
   "execution_count": 184,
   "metadata": {},
   "outputs": [
    {
     "data": {
      "text/plain": [
       "Index(['Number', 'Priority', 'Caller [Incident]', 'Assignment group',\n",
       "       'Created', 'Assigned to', 'Caller', 'Department', 'Short description',\n",
       "       'Description', 'Resolved', 'Reassignment count', 'Type', 'Severity'],\n",
       "      dtype='object')"
      ]
     },
     "execution_count": 184,
     "metadata": {},
     "output_type": "execute_result"
    }
   ],
   "source": [
    "sn_df.columns"
   ]
  },
  {
   "cell_type": "code",
   "execution_count": 185,
   "metadata": {},
   "outputs": [
    {
     "data": {
      "text/plain": [
       "(460, 14)"
      ]
     },
     "execution_count": 185,
     "metadata": {},
     "output_type": "execute_result"
    }
   ],
   "source": [
    "ty_sev = sn_df[(sn_df[\"Type\"] == \"INC\") & (sn_df[\"Severity\"] == \"Sev1\")]\n",
    "ty_sev.shape\n",
    "# Sev1 incidents"
   ]
  },
  {
   "cell_type": "code",
   "execution_count": 186,
   "metadata": {},
   "outputs": [],
   "source": [
    "# Incident dataframe\n",
    "sn_inc = sn_df[(sn_df[\"Type\"] == \"INC\")]"
   ]
  },
  {
   "cell_type": "code",
   "execution_count": 187,
   "metadata": {},
   "outputs": [
    {
     "data": {
      "text/plain": [
       "Sev4    95071\n",
       "Sev3     2412\n",
       "Sev2     1780\n",
       "Sev1      460\n",
       "4–Si      329\n",
       "5 -        60\n",
       "4U–S       22\n",
       "3–Me       17\n",
       "2–Pr        7\n",
       "Name: Severity, dtype: int64"
      ]
     },
     "execution_count": 187,
     "metadata": {},
     "output_type": "execute_result"
    }
   ],
   "source": [
    "sn_inc[\"Severity\"].value_counts()"
   ]
  },
  {
   "cell_type": "code",
   "execution_count": 188,
   "metadata": {},
   "outputs": [
    {
     "name": "stdout",
     "output_type": "stream",
     "text": [
      "Data Set -\n",
      " INC    100159\n",
      "GRE     74740\n",
      "Name: Type, dtype: int64\n",
      "Validation Set - \n",
      " INC    16721\n",
      "GRE     8940\n",
      "Name: Type, dtype: int64\n"
     ]
    }
   ],
   "source": [
    "print(\"Data Set -\\n\", sn_df[\"Type\"].value_counts())\n",
    "print(\"Validation Set - \\n\", df_val[\"Type\"].value_counts())"
   ]
  },
  {
   "cell_type": "code",
   "execution_count": 189,
   "metadata": {},
   "outputs": [
    {
     "data": {
      "text/plain": [
       "0     70883\n",
       "1     21842\n",
       "2      5649\n",
       "3      1155\n",
       "4       374\n",
       "5       149\n",
       "6        59\n",
       "7        20\n",
       "8        13\n",
       "9        11\n",
       "10        3\n",
       "11        1\n",
       "Name: Reassignment count, dtype: int64"
      ]
     },
     "execution_count": 189,
     "metadata": {},
     "output_type": "execute_result"
    }
   ],
   "source": [
    "sn_inc['Reassignment count'].value_counts()"
   ]
  },
  {
   "cell_type": "code",
   "execution_count": 190,
   "metadata": {},
   "outputs": [],
   "source": [
    "#pareto chart\n",
    "chart1 = pd.DataFrame()"
   ]
  },
  {
   "cell_type": "code",
   "execution_count": 191,
   "metadata": {},
   "outputs": [],
   "source": [
    "chart1['count']=sn_inc['Assignment group'].value_counts()\n",
    "#sn_df['Assignment group'].value_counts()#sn_df.groupby(['Assignment group', 'group', 'term']).size().unstack(fill_value=0)"
   ]
  },
  {
   "cell_type": "code",
   "execution_count": 192,
   "metadata": {},
   "outputs": [],
   "source": [
    "chart1 = chart1.sort_values(by='count',ascending=False)"
   ]
  },
  {
   "cell_type": "code",
   "execution_count": 193,
   "metadata": {},
   "outputs": [],
   "source": [
    "chart1[\"cumpercentage\"] = chart1[\"count\"].cumsum()/chart1[\"count\"].sum()*100"
   ]
  },
  {
   "cell_type": "code",
   "execution_count": 194,
   "metadata": {},
   "outputs": [
    {
     "data": {
      "image/png": "[encoded data removed]",
      "text/plain": [
       "<Figure size 1440x720 with 2 Axes>"
      ]
     },
     "metadata": {
      "needs_background": "light"
     },
     "output_type": "display_data"
    }
   ],
   "source": [
    "fig, ax = plt.subplots(figsize=(20, 10))\n",
    "ax.bar(chart1.index, chart1[\"count\"], color=\"C0\")\n",
    "plt.xticks(rotation='vertical')\n",
    "ax2 = ax.twinx()\n",
    "ax2.plot(chart1.index, chart1[\"cumpercentage\"], color=\"C1\", marker=\"D\", ms=7)\n",
    "ax.tick_params(axis=\"y\", colors=\"C0\")\n",
    "plt.xticks(rotation='vertical')\n",
    "#ax2.tick_params(axis=\"y\", colors=\"C1\")\n",
    "plt.show()"
   ]
  },
  {
   "cell_type": "markdown",
   "metadata": {},
   "source": [
    "#### Problem Statement:\n",
    "Data center operations L2\t570\n",
    "Data Center Operations\t12398\n",
    "GSC Projects\t28\n",
    "GSO - Collaboration\t234\n",
    "GSO - Security\t2111\n",
    "GSO - Service Desk\t54053\n",
    "Total L1 and L2 Tickets \t69394\n",
    "Overall Tickets \t174899\n",
    "L1 / L2 Ticket Closure = 40%\n",
    "Per year calculations: Assuming 15 min of effort for each SOP and 30% of L1/L2 tickets go through SOPs\n",
    "@30% of 69394 = 20818\n",
    "@ 15 min per SOP = 5205 hours for 2.4 years, 2169 hours per year\n",
    "Which is equivalent to 1 FTE\n",
    "Sev 1 Incidents = 460 / 100159 = 0.5%\n",
    "Total Re-assigned Tickets (post assigning to one of the Functional teams) = 174899 - 115142 - 45037 = 14720\n",
    "Total tickets assigned by L1 / L2 to other functional teams = 174899 - 69394 = 105505\n",
    "Assuming 25-30% of 105505 are assigned directly to the functional teams by Users / Monitoring Tools = 31652\n",
    "% Tickets getting re-assigned post L1 / L2 assigned to functional teams = 14720 / (105505 - 31652) = 20%"
   ]
  },
  {
   "cell_type": "markdown",
   "metadata": {},
   "source": [
    "### Identifying Nan values and taking care it"
   ]
  },
  {
   "cell_type": "code",
   "execution_count": null,
   "metadata": {},
   "outputs": [],
   "source": [
    "print(\"Data Set Length with Null Values in Description Column Main DF :\",sn_inc['Description'].isnull().sum())\n",
    "print(\"Data Set Length with Null Values in Description Column Validation :\",df_val['Description'].isnull().sum())"
   ]
  },
  {
   "cell_type": "code",
   "execution_count": null,
   "metadata": {},
   "outputs": [],
   "source": [
    "print(\"Data Set Length with Null Values in short Description Column :\",sn_inc['Short description'].isnull().sum())\n",
    "print(\"Data Set Length with Null Values in short Description Column Validation :\",df_val['Short description'].isnull().sum())"
   ]
  },
  {
   "cell_type": "code",
   "execution_count": null,
   "metadata": {},
   "outputs": [],
   "source": [
    "print (\"Original sn_inc:\", sn_inc.shape)\n",
    "print (\"validation df_val:\", df_val.shape)"
   ]
  },
  {
   "cell_type": "code",
   "execution_count": null,
   "metadata": {},
   "outputs": [],
   "source": [
    "sn_inc_new = sn_inc.dropna(axis=0, subset=['Description','Short description'])\n",
    "print (\"New sn_inc:\", sn_inc_new.shape)"
   ]
  },
  {
   "cell_type": "code",
   "execution_count": null,
   "metadata": {},
   "outputs": [],
   "source": [
    "df_val_new = df_val.dropna(axis=0, subset=['Description','Short description'])\n",
    "print (\"New df_val:\", df_val_new.shape)"
   ]
  },
  {
   "cell_type": "code",
   "execution_count": null,
   "metadata": {},
   "outputs": [],
   "source": [
    "sn_inc_new['Description'].to_csv ('all_description.csv')"
   ]
  },
  {
   "cell_type": "code",
   "execution_count": null,
   "metadata": {},
   "outputs": [],
   "source": [
    "sn_inc_new['Short description'].to_csv ('all_shortdescription.csv')"
   ]
  },
  {
   "cell_type": "code",
   "execution_count": null,
   "metadata": {},
   "outputs": [],
   "source": [
    "df_val_new['Description'].to_csv ('all_description_val.csv')"
   ]
  },
  {
   "cell_type": "code",
   "execution_count": null,
   "metadata": {},
   "outputs": [],
   "source": [
    "sn_inc_new['Description'].head(10)"
   ]
  },
  {
   "cell_type": "code",
   "execution_count": null,
   "metadata": {},
   "outputs": [],
   "source": []
  },
  {
   "cell_type": "code",
   "execution_count": 195,
   "metadata": {},
   "outputs": [
    {
     "name": "stdout",
     "output_type": "stream",
     "text": [
      "Data Set Length with Null Values in Description Column - 649\n",
      "Test Data Set Length with Null Values in Description Column - 54\n"
     ]
    }
   ],
   "source": [
    "# Identify null values from Description\n",
    "nan_rows = sn_inc[sn_inc['Description'].isnull()]\n",
    "print(\"Data Set Length with Null Values in Description Column -\",len(nan_rows))\n",
    "nan_rows = df_val[df_val['Description'].isnull()]\n",
    "print(\"Test Data Set Length with Null Values in Description Column -\",len(nan_rows))"
   ]
  },
  {
   "cell_type": "code",
   "execution_count": 196,
   "metadata": {},
   "outputs": [],
   "source": [
    "# Replace Nan values in Description to THE - since this stop word will be eliminated in the vectorization\n",
    "sn_inc[\"Description\"].fillna(\"The\", inplace=True)\n",
    "df_val[\"Description\"].fillna(\"The\", inplace=True)"
   ]
  },
  {
   "cell_type": "code",
   "execution_count": 197,
   "metadata": {},
   "outputs": [
    {
     "name": "stdout",
     "output_type": "stream",
     "text": [
      "Data Set Length with Null Values in Short Description Column - 2\n",
      "Test Data Set Length with Null Values in Short Description Column - 0\n"
     ]
    }
   ],
   "source": [
    "# Identify null values from Short Description\n",
    "nan_rows = sn_inc[sn_inc['Short description'].isnull()]\n",
    "print(\"Data Set Length with Null Values in Short Description Column -\",len(nan_rows))\n",
    "nan_rows = df_val[df_val['Short description'].isnull()]\n",
    "print(\"Test Data Set Length with Null Values in Short Description Column -\",len(nan_rows))"
   ]
  },
  {
   "cell_type": "code",
   "execution_count": 198,
   "metadata": {},
   "outputs": [],
   "source": [
    "# Replace Nan values in Short description to THE - since this stop word will be eliminated in the vectorization\n",
    "sn_inc[\"Short description\"].fillna(\"The\", inplace=True)\n",
    "df_val[\"Short description\"].fillna(\"The\", inplace=True)"
   ]
  },
  {
   "cell_type": "code",
   "execution_count": 199,
   "metadata": {},
   "outputs": [],
   "source": [
    "sn_inc1=sn_inc.copy()"
   ]
  },
  {
   "cell_type": "code",
   "execution_count": 200,
   "metadata": {},
   "outputs": [],
   "source": [
    "df_val1=df_val.copy()"
   ]
  },
  {
   "cell_type": "markdown",
   "metadata": {},
   "source": [
    "#### Convert in Lower case"
   ]
  },
  {
   "cell_type": "code",
   "execution_count": 201,
   "metadata": {},
   "outputs": [],
   "source": [
    "#sn_inc1=sn_inc_new"
   ]
  },
  {
   "cell_type": "code",
   "execution_count": 202,
   "metadata": {},
   "outputs": [],
   "source": [
    "#df_val1=df_val_new"
   ]
  },
  {
   "cell_type": "code",
   "execution_count": 203,
   "metadata": {},
   "outputs": [],
   "source": [
    "sn_inc1['Description'] = sn_inc1['Description'].apply(lambda x: x.lower())\n",
    "sn_inc1['Short description'] = sn_inc1['Short description'].apply(lambda x: x.lower())"
   ]
  },
  {
   "cell_type": "code",
   "execution_count": 204,
   "metadata": {},
   "outputs": [],
   "source": [
    "df_val1['Description'] = df_val1['Description'].apply(lambda x: x.lower())\n",
    "df_val1['Short description'] = df_val1['Short description'].apply(lambda x: x.lower())"
   ]
  },
  {
   "cell_type": "code",
   "execution_count": 205,
   "metadata": {},
   "outputs": [
    {
     "data": {
      "text/plain": [
       "0    -verified user details.(employee# & manager name)\\n-checked the user name in ad and reset the pa...\n",
       "1    \\n\\nreceived from: kim.walker@kennametal.com\\n\\nhello team,\\n\\nmy meetings/skype meetings etc ar...\n",
       "2    \\n\\nreceived from: jaques.vanderberg@kennametal.com\\n\\nhi\\n\\ni cannot log on to vpn\\n\\nbest rega...\n",
       "3                                                                              unable to access adp page\n",
       "4                                                                           unable to log in to euremote\n",
       "5                                                                                           skype error \n",
       "6                                                            unable to log in to tool reporter and skype\n",
       "7    event: critical:axhq30450.kmtl.com the value of mountpoint threshold for /oracle/p21/sapdata21/s...\n",
       "8                                  greq0449280- employment status - new non-employee [enter user's name]\n",
       "9                                                                   unable to disable add ins on outlook\n",
       "Name: Description, dtype: object"
      ]
     },
     "execution_count": 205,
     "metadata": {},
     "output_type": "execute_result"
    }
   ],
   "source": [
    "sn_inc1['Description'].head(10)"
   ]
  },
  {
   "cell_type": "code",
   "execution_count": 206,
   "metadata": {},
   "outputs": [
    {
     "data": {
      "text/plain": [
       "0                                                                          regarding sap login\n",
       "1    potential phish: [external] snelling - best of staffing® 2019 client satisfaction award! \n",
       "2                potential phish: [external] your account has been hacked! you need to unlock.\n",
       "Name: Short description, dtype: object"
      ]
     },
     "execution_count": 206,
     "metadata": {},
     "output_type": "execute_result"
    }
   ],
   "source": [
    "df_val1['Short description'].head(3)"
   ]
  },
  {
   "cell_type": "markdown",
   "metadata": {},
   "source": [
    "#### Remove punctuations"
   ]
  },
  {
   "cell_type": "code",
   "execution_count": 207,
   "metadata": {},
   "outputs": [
    {
     "data": {
      "text/plain": [
       "'!\"#$%&\\'()*+,-./:;<=>?@[\\\\]^_`{|}~'"
      ]
     },
     "execution_count": 207,
     "metadata": {},
     "output_type": "execute_result"
    }
   ],
   "source": [
    "import string\n",
    "string.punctuation"
   ]
  },
  {
   "cell_type": "code",
   "execution_count": 208,
   "metadata": {},
   "outputs": [],
   "source": [
    "def remove_punct(text):\n",
    "    text = re.sub('[0-9]+|\\n|\\r|[!\"#$%&\\'()*+,-./:;<=>?@[\\\\]^_`{|}~]', ' ', text)\n",
    "    return text"
   ]
  },
  {
   "cell_type": "code",
   "execution_count": 209,
   "metadata": {},
   "outputs": [],
   "source": [
    "import re\n",
    "sn_inc1['Description_new'] = sn_inc1['Description'].apply(lambda x: remove_punct(x))\n",
    "sn_inc1['Short description'] = sn_inc1['Short description'].apply(lambda x: remove_punct(x))\n"
   ]
  },
  {
   "cell_type": "code",
   "execution_count": 210,
   "metadata": {},
   "outputs": [
    {
     "data": {
      "text/html": [
       "<div>\n",
       "<style scoped>\n",
       "    .dataframe tbody tr th:only-of-type {\n",
       "        vertical-align: middle;\n",
       "    }\n",
       "\n",
       "    .dataframe tbody tr th {\n",
       "        vertical-align: top;\n",
       "    }\n",
       "\n",
       "    .dataframe thead th {\n",
       "        text-align: right;\n",
       "    }\n",
       "</style>\n",
       "<table border=\"1\" class=\"dataframe\">\n",
       "  <thead>\n",
       "    <tr style=\"text-align: right;\">\n",
       "      <th></th>\n",
       "      <th>Description</th>\n",
       "      <th>Description_new</th>\n",
       "    </tr>\n",
       "  </thead>\n",
       "  <tbody>\n",
       "    <tr>\n",
       "      <th>0</th>\n",
       "      <td>-verified user details.(employee# &amp; manager name)\\n-checked the user name in ad and reset the pa...</td>\n",
       "      <td>verified user details  employee    manager name   checked the user name in ad and reset the pas...</td>\n",
       "    </tr>\n",
       "    <tr>\n",
       "      <th>1</th>\n",
       "      <td>\\n\\nreceived from: kim.walker@kennametal.com\\n\\nhello team,\\n\\nmy meetings/skype meetings etc ar...</td>\n",
       "      <td>received from  kim walker kennametal com  hello team   my meetings skype meetings etc are not ...</td>\n",
       "    </tr>\n",
       "    <tr>\n",
       "      <th>2</th>\n",
       "      <td>\\n\\nreceived from: jaques.vanderberg@kennametal.com\\n\\nhi\\n\\ni cannot log on to vpn\\n\\nbest rega...</td>\n",
       "      <td>received from  jaques vanderberg kennametal com  hi  i cannot log on to vpn  best regards  jaq...</td>\n",
       "    </tr>\n",
       "    <tr>\n",
       "      <th>3</th>\n",
       "      <td>unable to access adp page</td>\n",
       "      <td>unable to access adp page</td>\n",
       "    </tr>\n",
       "    <tr>\n",
       "      <th>4</th>\n",
       "      <td>unable to log in to euremote</td>\n",
       "      <td>unable to log in to euremote</td>\n",
       "    </tr>\n",
       "    <tr>\n",
       "      <th>5</th>\n",
       "      <td>skype error</td>\n",
       "      <td>skype error</td>\n",
       "    </tr>\n",
       "    <tr>\n",
       "      <th>6</th>\n",
       "      <td>unable to log in to tool reporter and skype</td>\n",
       "      <td>unable to log in to tool reporter and skype</td>\n",
       "    </tr>\n",
       "    <tr>\n",
       "      <th>7</th>\n",
       "      <td>event: critical:axhq30450.kmtl.com the value of mountpoint threshold for /oracle/p21/sapdata21/s...</td>\n",
       "      <td>event  critical axhq  kmtl com the value of mountpoint threshold for  oracle p  sapdata  sr psa ...</td>\n",
       "    </tr>\n",
       "    <tr>\n",
       "      <th>8</th>\n",
       "      <td>greq0449280- employment status - new non-employee [enter user's name]</td>\n",
       "      <td>greq   employment status   new non employee  enter user s name</td>\n",
       "    </tr>\n",
       "    <tr>\n",
       "      <th>9</th>\n",
       "      <td>unable to disable add ins on outlook</td>\n",
       "      <td>unable to disable add ins on outlook</td>\n",
       "    </tr>\n",
       "  </tbody>\n",
       "</table>\n",
       "</div>"
      ],
      "text/plain": [
       "                                                                                           Description  \\\n",
       "0  -verified user details.(employee# & manager name)\\n-checked the user name in ad and reset the pa...   \n",
       "1  \\n\\nreceived from: kim.walker@kennametal.com\\n\\nhello team,\\n\\nmy meetings/skype meetings etc ar...   \n",
       "2  \\n\\nreceived from: jaques.vanderberg@kennametal.com\\n\\nhi\\n\\ni cannot log on to vpn\\n\\nbest rega...   \n",
       "3                                                                            unable to access adp page   \n",
       "4                                                                         unable to log in to euremote   \n",
       "5                                                                                         skype error    \n",
       "6                                                          unable to log in to tool reporter and skype   \n",
       "7  event: critical:axhq30450.kmtl.com the value of mountpoint threshold for /oracle/p21/sapdata21/s...   \n",
       "8                                greq0449280- employment status - new non-employee [enter user's name]   \n",
       "9                                                                 unable to disable add ins on outlook   \n",
       "\n",
       "                                                                                       Description_new  \n",
       "0   verified user details  employee    manager name   checked the user name in ad and reset the pas...  \n",
       "1    received from  kim walker kennametal com  hello team   my meetings skype meetings etc are not ...  \n",
       "2    received from  jaques vanderberg kennametal com  hi  i cannot log on to vpn  best regards  jaq...  \n",
       "3                                                                            unable to access adp page  \n",
       "4                                                                         unable to log in to euremote  \n",
       "5                                                                                         skype error   \n",
       "6                                                          unable to log in to tool reporter and skype  \n",
       "7  event  critical axhq  kmtl com the value of mountpoint threshold for  oracle p  sapdata  sr psa ...  \n",
       "8                                      greq   employment status   new non employee  enter user s name   \n",
       "9                                                                 unable to disable add ins on outlook  "
      ]
     },
     "execution_count": 210,
     "metadata": {},
     "output_type": "execute_result"
    }
   ],
   "source": [
    "sn_inc1[['Description','Description_new']].head(10)"
   ]
  },
  {
   "cell_type": "code",
   "execution_count": 211,
   "metadata": {},
   "outputs": [],
   "source": [
    "df_val1['Description'] = df_val1['Description'].apply(lambda x: remove_punct(x))\n",
    "df_val1['Short description'] = df_val1['Short description'].apply(lambda x: remove_punct(x))"
   ]
  },
  {
   "cell_type": "code",
   "execution_count": 212,
   "metadata": {},
   "outputs": [],
   "source": [
    "sn_inc1['Description'] = sn_inc1['Description'].apply(lambda x: remove_punct(x))"
   ]
  },
  {
   "cell_type": "code",
   "execution_count": 213,
   "metadata": {},
   "outputs": [],
   "source": [
    "from nltk.tokenize import word_tokenize\n",
    "from nltk import pos_tag\n",
    "from nltk.corpus import stopwords\n",
    "from nltk.stem import WordNetLemmatizer"
   ]
  },
  {
   "cell_type": "code",
   "execution_count": 214,
   "metadata": {},
   "outputs": [],
   "source": [
    "DD=sn_inc1['Description_new'].head(10)"
   ]
  },
  {
   "cell_type": "code",
   "execution_count": 215,
   "metadata": {},
   "outputs": [
    {
     "data": {
      "text/plain": [
       "0     verified user details  employee    manager name   checked the user name in ad and reset the pas...\n",
       "1      received from  kim walker kennametal com  hello team   my meetings skype meetings etc are not ...\n",
       "2      received from  jaques vanderberg kennametal com  hi  i cannot log on to vpn  best regards  jaq...\n",
       "3                                                                              unable to access adp page\n",
       "4                                                                           unable to log in to euremote\n",
       "5                                                                                           skype error \n",
       "6                                                            unable to log in to tool reporter and skype\n",
       "7    event  critical axhq  kmtl com the value of mountpoint threshold for  oracle p  sapdata  sr psa ...\n",
       "8                                        greq   employment status   new non employee  enter user s name \n",
       "9                                                                   unable to disable add ins on outlook\n",
       "Name: Description_new, dtype: object"
      ]
     },
     "execution_count": 215,
     "metadata": {},
     "output_type": "execute_result"
    }
   ],
   "source": [
    "DD"
   ]
  },
  {
   "cell_type": "code",
   "execution_count": 216,
   "metadata": {},
   "outputs": [],
   "source": [
    "#Creating a sets whith all distinct words for short description\n",
    "from nltk.tokenize import word_tokenize\n",
    "tokenized_word_DD=word_tokenize(str(DD))\n",
    "#testing for 10 words so seprated\n"
   ]
  },
  {
   "cell_type": "code",
   "execution_count": 217,
   "metadata": {},
   "outputs": [
    {
     "data": {
      "text/plain": [
       "['0',\n",
       " 'verified',\n",
       " 'user',\n",
       " 'details',\n",
       " 'employee',\n",
       " 'manager',\n",
       " 'name',\n",
       " 'checked',\n",
       " 'the',\n",
       " 'user',\n",
       " 'name',\n",
       " 'in',\n",
       " 'ad',\n",
       " 'and',\n",
       " 'reset',\n",
       " 'the',\n",
       " 'pas',\n",
       " '...',\n",
       " '1',\n",
       " 'received']"
      ]
     },
     "execution_count": 217,
     "metadata": {},
     "output_type": "execute_result"
    }
   ],
   "source": [
    "top10=tokenized_word_DD[:20]\n",
    "top10"
   ]
  },
  {
   "cell_type": "code",
   "execution_count": 218,
   "metadata": {},
   "outputs": [],
   "source": [
    "def searchRE(regex, value, s):\n",
    "    #print(regex)\n",
    "    s = re.sub(regex,value,s)\n",
    "    return s"
   ]
  },
  {
   "cell_type": "code",
   "execution_count": 219,
   "metadata": {
    "scrolled": false
   },
   "outputs": [
    {
     "name": "stdout",
     "output_type": "stream",
     "text": [
      "<wordcloud.wordcloud.WordCloud object at 0x14174ae10>\n"
     ]
    },
    {
     "data": {
      "image/png": "[encoded data removed]",
      "text/plain": [
       "<Figure size 1440x720 with 1 Axes>"
      ]
     },
     "metadata": {},
     "output_type": "display_data"
    }
   ],
   "source": [
    "import matplotlib.pyplot as plt # visualization\n",
    "import seaborn as sns # visualization \n",
    "from wordcloud import WordCloud, STOPWORDS # this module is for making wordcloud in python\n",
    "\n",
    "# difine wordcloud function from wordcloud library. set some parameteres for beatuful plotting\n",
    "wc = WordCloud(width = 3000,\n",
    "    height = 2000,\n",
    "    background_color = 'black',\n",
    "    stopwords = STOPWORDS)\n",
    "# generate word cloud using df_yelp_tip_top['text_clear']\n",
    "wc_word=wc.generate(str(sn_inc1['Description_new']))\n",
    "print(wc_word)\n",
    "# declare our figure \n",
    "plt.figure(figsize=(20,10), facecolor='k')\n",
    "# add title to the graph\n",
    "plt.title(\"Most frequent words in Discription dataset\", fontsize=40,color='white')\n",
    "plt.imshow(wc_word)\n",
    "plt.show()"
   ]
  },
  {
   "cell_type": "markdown",
   "metadata": {},
   "source": [
    "### Remove Accented Characters"
   ]
  },
  {
   "cell_type": "code",
   "execution_count": 220,
   "metadata": {},
   "outputs": [
    {
     "name": "stdout",
     "output_type": "stream",
     "text": [
      "Requirement already satisfied: unidecode in /anaconda3/lib/python3.6/site-packages (1.1.1)\r\n"
     ]
    }
   ],
   "source": [
    "!pip install unidecode"
   ]
  },
  {
   "cell_type": "code",
   "execution_count": 221,
   "metadata": {},
   "outputs": [
    {
     "data": {
      "text/plain": [
       "'Malaga'"
      ]
     },
     "execution_count": 221,
     "metadata": {},
     "output_type": "execute_result"
    }
   ],
   "source": [
    "accented_string = 'Málaga'\n",
    "import unidecode\n",
    "uc = unidecode\n",
    "unaccented_string = uc.unidecode(accented_string)\n",
    "unaccented_string"
   ]
  },
  {
   "cell_type": "code",
   "execution_count": 222,
   "metadata": {},
   "outputs": [],
   "source": [
    "sn_inc=sn_inc1.copy()\n",
    "df_val=df_val1.copy()"
   ]
  },
  {
   "cell_type": "code",
   "execution_count": 223,
   "metadata": {},
   "outputs": [],
   "source": [
    "sn_inc['Description'] = sn_inc['Description'].apply(lambda x: uc.unidecode(x))\n",
    "sn_inc['Short description'] = sn_inc['Short description'].apply(lambda x: uc.unidecode(x))"
   ]
  },
  {
   "cell_type": "code",
   "execution_count": 224,
   "metadata": {},
   "outputs": [],
   "source": [
    "df_val['Description'] = df_val['Description'].apply(lambda x: uc.unidecode(x))\n",
    "df_val['Short description'] = df_val['Short description'].apply(lambda x: uc.unidecode(x))"
   ]
  },
  {
   "cell_type": "code",
   "execution_count": 225,
   "metadata": {},
   "outputs": [],
   "source": [
    "pd.set_option('max_colwidth', 100)"
   ]
  },
  {
   "cell_type": "code",
   "execution_count": 226,
   "metadata": {},
   "outputs": [
    {
     "data": {
      "text/plain": [
       "0     verified user details  employee    manager name   checked the user name in ad and reset the pas...\n",
       "1      received from  kim walker kennametal com  hello team   my meetings skype meetings etc are not ...\n",
       "2      received from  jaques vanderberg kennametal com  hi  i cannot log on to vpn  best regards  jaq...\n",
       "3                                                                              unable to access adp page\n",
       "4                                                                           unable to log in to euremote\n",
       "Name: Description, dtype: object"
      ]
     },
     "execution_count": 226,
     "metadata": {},
     "output_type": "execute_result"
    }
   ],
   "source": [
    "sn_inc['Description'].head()"
   ]
  },
  {
   "cell_type": "markdown",
   "metadata": {},
   "source": [
    "### Remove Stop Words"
   ]
  },
  {
   "cell_type": "code",
   "execution_count": 227,
   "metadata": {},
   "outputs": [
    {
     "name": "stdout",
     "output_type": "stream",
     "text": [
      "{\"weren't\", \"wasn't\", 'that', 'an', \"you'd\", 'into', 'for', 'was', \"needn't\", 'were', 'herself', 'don', 'had', 'been', 'doesn', 'she', 'whom', 'ourselves', 'if', 'these', 'as', 's', 'ma', 'me', 'who', 'after', 'here', \"shan't\", \"she's\", 'up', 'both', 'have', 'most', 'its', 'hadn', 'weren', 'why', 'no', 'shouldn', 'just', 'at', 'wouldn', 'during', 'himself', 'such', \"haven't\", 'mightn', 'having', 'those', 'what', 'has', 'hasn', 'will', \"didn't\", \"don't\", 'once', 'on', 'then', 'there', 'when', 'my', 'through', 'won', \"you've\", 'only', 'it', 'same', 'than', 'am', 'your', 're', 'itself', 'can', 'them', \"shouldn't\", \"won't\", 'against', \"it's\", 'does', 'wasn', 'any', \"aren't\", 'under', 'yourself', 'o', 'how', 'but', 'd', 'doing', 'haven', \"that'll\", 'our', 'while', 'further', \"doesn't\", \"hadn't\", 'of', 'some', 'is', 'out', 'in', 'yours', 'do', 'and', 'by', \"hasn't\", 'very', 'i', 'are', 'his', \"mightn't\", 'him', 'not', 'myself', 'y', 'until', 'needn', 'm', 've', 'this', 'all', 'ours', 'isn', \"couldn't\", 'didn', 'a', 'theirs', 'their', 'from', 'did', 'before', 'shan', 'own', 'nor', 'so', 'he', 'with', \"wouldn't\", 'the', 'because', 'be', 'each', 'you', 'down', 'between', \"you're\", 'to', 'should', \"you'll\", 'more', \"isn't\", 'where', \"should've\", 'hers', 'couldn', 'yourselves', 'which', 'above', 'about', 'mustn', 'themselves', 'other', \"mustn't\", 'over', 'being', 't', 'her', 'few', 'they', 'ain', 'below', 'again', 'too', 'll', 'we', 'now', 'or', 'off', 'aren'}\n"
     ]
    }
   ],
   "source": [
    "from nltk.corpus import stopwords\n",
    "stop_words=set(stopwords.words(\"english\"))\n",
    "print(stop_words)"
   ]
  },
  {
   "cell_type": "code",
   "execution_count": 228,
   "metadata": {},
   "outputs": [],
   "source": [
    "num = [\"0\",\"1\",\"2\",\"3\",\"4\",\"5\", \"6\", \"7\",\"8\", \"9\", \"10\",\"11\", \"12\", \"13\",\"14\", \"15\", \"16\",\"17\", \"18\", \"19\",\"20\",\"21\",\"22\",\"23\",\"24\",\"hello\",\"hi\",\"name\",\n",
    "       \"25\",\"26\",\"91\",\"92\",\"93\",\"99\",\"999\",\"...\",\"-\",\",\",\":\",\"kennametal\",\"kennametal.\",\"Kennametal\",\"kennametal.com\",\"\\n\",\")\",\"/s\",\"@\",\"#\",\".\",\"www\",\"http\",\"com\"]\n",
    "for i in num: \n",
    "    stop_words.add(i)"
   ]
  },
  {
   "cell_type": "code",
   "execution_count": 229,
   "metadata": {},
   "outputs": [
    {
     "name": "stdout",
     "output_type": "stream",
     "text": [
      "{\"weren't\", \"wasn't\", 'that', '22', 'an', \"you'd\", ')', 'into', 'for', '@', 'was', \"needn't\", 'were', 'herself', 'don', 'kennametal', 'had', '1', 'been', 'doesn', 'she', 'whom', '25', 'ourselves', 'if', 'these', 'as', 's', 'ma', 'name', 'me', 'who', 'after', 'here', \"shan't\", '16', \"she's\", 'up', 'both', 'have', ':', 'most', 'its', 'hadn', '7', '21', '14', 'weren', 'why', 'no', 'shouldn', 'just', 'at', 'wouldn', 'during', 'himself', 'such', \"haven't\", 'mightn', 'having', 'those', 'what', '20', '-', 'has', 'hasn', 'will', '11', \"didn't\", '#', \"don't\", 'once', 'on', 'then', 'there', 'when', '5', '999', 'my', 'through', '10', 'won', \"you've\", 'only', 'it', '0', 'kennametal.', 'same', 'than', 'am', 'your', 're', 'itself', 'can', 'them', '15', \"shouldn't\", \"won't\", 'against', \"it's\", 'does', 'wasn', 'any', \"aren't\", '24', '.', 'under', 'hello', 'yourself', '26', 'o', 'how', 'but', 'd', 'doing', 'haven', \"that'll\", 'our', 'while', 'further', '3', \"doesn't\", \"hadn't\", 'of', 'some', '91', 'is', 'out', 'kennametal.com', 'in', 'yours', 'do', 'and', 'by', \"hasn't\", 'very', 'i', 'are', '9', 'his', \"mightn't\", 'him', 'not', 'myself', 'y', 'hi', 'com', 'until', 'needn', 'm', '19', 've', '12', '99', '/s', 'this', 'all', 'ours', 'isn', '...', \"couldn't\", 'didn', 'a', '8', 'theirs', 'their', 'Kennametal', '18', 'http', 'from', 'did', '13', 'before', 'shan', 'own', 'nor', '2', '4', 'so', 'he', 'with', \"wouldn't\", 'the', 'because', 'be', 'each', 'you', 'down', 'between', \"you're\", 'to', 'should', \"you'll\", 'more', \"isn't\", 'where', '17', ',', \"should've\", 'hers', 'couldn', 'yourselves', 'which', 'above', 'about', 'mustn', 'themselves', 'other', \"mustn't\", 'over', '93', 'being', 't', 'her', 'few', '92', 'www', 'they', 'ain', 'below', 'again', 'too', 'll', 'we', 'now', 'or', 'off', '6', 'aren', '23', '\\n'}\n"
     ]
    }
   ],
   "source": [
    "print(stop_words)"
   ]
  },
  {
   "cell_type": "code",
   "execution_count": 230,
   "metadata": {},
   "outputs": [],
   "source": [
    "sn_inc['Description_new1'] = sn_inc['Description'].apply(lambda x: ' '.join([word for word in x.split() if word not in (stop_words)]))\n",
    "sn_inc['Short description'] = sn_inc['Short description'].apply(lambda x: ' '.join([word for word in x.split() if word not in (stop_words)]))"
   ]
  },
  {
   "cell_type": "code",
   "execution_count": 231,
   "metadata": {},
   "outputs": [],
   "source": [
    "df_val['Description'] = df_val['Description'].apply(lambda x: ' '.join([word for word in x.split() if word not in (stop_words)]))\n",
    "df_val['Short description'] = df_val['Short description'].apply(lambda x: ' '.join([word for word in x.split() if word not in (stop_words)]))"
   ]
  },
  {
   "cell_type": "code",
   "execution_count": 232,
   "metadata": {},
   "outputs": [
    {
     "data": {
      "text/plain": [
       "0     verified user details  employee    manager name   checked the user name in ad and reset the pas...\n",
       "1      received from  kim walker kennametal com  hello team   my meetings skype meetings etc are not ...\n",
       "2      received from  jaques vanderberg kennametal com  hi  i cannot log on to vpn  best regards  jaq...\n",
       "3                                                                              unable to access adp page\n",
       "4                                                                           unable to log in to euremote\n",
       "Name: Description, dtype: object"
      ]
     },
     "execution_count": 232,
     "metadata": {},
     "output_type": "execute_result"
    }
   ],
   "source": [
    "sn_inc['Description'].head(5)"
   ]
  },
  {
   "cell_type": "code",
   "execution_count": 233,
   "metadata": {},
   "outputs": [
    {
     "data": {
      "text/html": [
       "<div>\n",
       "<style scoped>\n",
       "    .dataframe tbody tr th:only-of-type {\n",
       "        vertical-align: middle;\n",
       "    }\n",
       "\n",
       "    .dataframe tbody tr th {\n",
       "        vertical-align: top;\n",
       "    }\n",
       "\n",
       "    .dataframe thead th {\n",
       "        text-align: right;\n",
       "    }\n",
       "</style>\n",
       "<table border=\"1\" class=\"dataframe\">\n",
       "  <thead>\n",
       "    <tr style=\"text-align: right;\">\n",
       "      <th></th>\n",
       "      <th>Description</th>\n",
       "      <th>Description_new</th>\n",
       "      <th>Description_new1</th>\n",
       "    </tr>\n",
       "  </thead>\n",
       "  <tbody>\n",
       "    <tr>\n",
       "      <th>0</th>\n",
       "      <td>verified user details  employee    manager name   checked the user name in ad and reset the pas...</td>\n",
       "      <td>verified user details  employee    manager name   checked the user name in ad and reset the pas...</td>\n",
       "      <td>verified user details employee manager checked user ad reset password advised user login check c...</td>\n",
       "    </tr>\n",
       "    <tr>\n",
       "      <th>1</th>\n",
       "      <td>received from  kim walker kennametal com  hello team   my meetings skype meetings etc are not ...</td>\n",
       "      <td>received from  kim walker kennametal com  hello team   my meetings skype meetings etc are not ...</td>\n",
       "      <td>received kim walker team meetings skype meetings etc appearing outlook calendar somebody please ...</td>\n",
       "    </tr>\n",
       "    <tr>\n",
       "      <th>2</th>\n",
       "      <td>received from  jaques vanderberg kennametal com  hi  i cannot log on to vpn  best regards  jaq...</td>\n",
       "      <td>received from  jaques vanderberg kennametal com  hi  i cannot log on to vpn  best regards  jaq...</td>\n",
       "      <td>received jaques vanderberg cannot log vpn best regards jaques van der berg field sales engineer ...</td>\n",
       "    </tr>\n",
       "    <tr>\n",
       "      <th>3</th>\n",
       "      <td>unable to access adp page</td>\n",
       "      <td>unable to access adp page</td>\n",
       "      <td>unable access adp page</td>\n",
       "    </tr>\n",
       "    <tr>\n",
       "      <th>4</th>\n",
       "      <td>unable to log in to euremote</td>\n",
       "      <td>unable to log in to euremote</td>\n",
       "      <td>unable log euremote</td>\n",
       "    </tr>\n",
       "    <tr>\n",
       "      <th>5</th>\n",
       "      <td>skype error</td>\n",
       "      <td>skype error</td>\n",
       "      <td>skype error</td>\n",
       "    </tr>\n",
       "    <tr>\n",
       "      <th>6</th>\n",
       "      <td>unable to log in to tool reporter and skype</td>\n",
       "      <td>unable to log in to tool reporter and skype</td>\n",
       "      <td>unable log tool reporter skype</td>\n",
       "    </tr>\n",
       "    <tr>\n",
       "      <th>7</th>\n",
       "      <td>event  critical axhq  kmtl com the value of mountpoint threshold for  oracle p  sapdata  sr psa ...</td>\n",
       "      <td>event  critical axhq  kmtl com the value of mountpoint threshold for  oracle p  sapdata  sr psa ...</td>\n",
       "      <td>event critical axhq kmtl value mountpoint threshold oracle p sapdata sr psa sr psa data psapsr psa</td>\n",
       "    </tr>\n",
       "    <tr>\n",
       "      <th>8</th>\n",
       "      <td>greq   employment status   new non employee  enter user s name</td>\n",
       "      <td>greq   employment status   new non employee  enter user s name</td>\n",
       "      <td>greq employment status new non employee enter user</td>\n",
       "    </tr>\n",
       "    <tr>\n",
       "      <th>9</th>\n",
       "      <td>unable to disable add ins on outlook</td>\n",
       "      <td>unable to disable add ins on outlook</td>\n",
       "      <td>unable disable add ins outlook</td>\n",
       "    </tr>\n",
       "  </tbody>\n",
       "</table>\n",
       "</div>"
      ],
      "text/plain": [
       "                                                                                           Description  \\\n",
       "0   verified user details  employee    manager name   checked the user name in ad and reset the pas...   \n",
       "1    received from  kim walker kennametal com  hello team   my meetings skype meetings etc are not ...   \n",
       "2    received from  jaques vanderberg kennametal com  hi  i cannot log on to vpn  best regards  jaq...   \n",
       "3                                                                            unable to access adp page   \n",
       "4                                                                         unable to log in to euremote   \n",
       "5                                                                                         skype error    \n",
       "6                                                          unable to log in to tool reporter and skype   \n",
       "7  event  critical axhq  kmtl com the value of mountpoint threshold for  oracle p  sapdata  sr psa ...   \n",
       "8                                      greq   employment status   new non employee  enter user s name    \n",
       "9                                                                 unable to disable add ins on outlook   \n",
       "\n",
       "                                                                                       Description_new  \\\n",
       "0   verified user details  employee    manager name   checked the user name in ad and reset the pas...   \n",
       "1    received from  kim walker kennametal com  hello team   my meetings skype meetings etc are not ...   \n",
       "2    received from  jaques vanderberg kennametal com  hi  i cannot log on to vpn  best regards  jaq...   \n",
       "3                                                                            unable to access adp page   \n",
       "4                                                                         unable to log in to euremote   \n",
       "5                                                                                         skype error    \n",
       "6                                                          unable to log in to tool reporter and skype   \n",
       "7  event  critical axhq  kmtl com the value of mountpoint threshold for  oracle p  sapdata  sr psa ...   \n",
       "8                                      greq   employment status   new non employee  enter user s name    \n",
       "9                                                                 unable to disable add ins on outlook   \n",
       "\n",
       "                                                                                      Description_new1  \n",
       "0  verified user details employee manager checked user ad reset password advised user login check c...  \n",
       "1  received kim walker team meetings skype meetings etc appearing outlook calendar somebody please ...  \n",
       "2  received jaques vanderberg cannot log vpn best regards jaques van der berg field sales engineer ...  \n",
       "3                                                                               unable access adp page  \n",
       "4                                                                                  unable log euremote  \n",
       "5                                                                                          skype error  \n",
       "6                                                                       unable log tool reporter skype  \n",
       "7   event critical axhq kmtl value mountpoint threshold oracle p sapdata sr psa sr psa data psapsr psa  \n",
       "8                                                   greq employment status new non employee enter user  \n",
       "9                                                                       unable disable add ins outlook  "
      ]
     },
     "execution_count": 233,
     "metadata": {},
     "output_type": "execute_result"
    }
   ],
   "source": [
    "sn_inc[['Description','Description_new','Description_new1']].head(10)"
   ]
  },
  {
   "cell_type": "code",
   "execution_count": 242,
   "metadata": {},
   "outputs": [],
   "source": [
    "sn_inc[['Description_new1']].head(10).to_csv('check_values.csv')"
   ]
  },
  {
   "cell_type": "code",
   "execution_count": 243,
   "metadata": {},
   "outputs": [],
   "source": [
    "sn_inc['Description'] = sn_inc['Description'].apply(lambda x: ' '.join([word for word in x.split() if word not in (stop_words)]))"
   ]
  },
  {
   "cell_type": "code",
   "execution_count": 244,
   "metadata": {},
   "outputs": [
    {
     "data": {
      "text/html": [
       "<div>\n",
       "<style scoped>\n",
       "    .dataframe tbody tr th:only-of-type {\n",
       "        vertical-align: middle;\n",
       "    }\n",
       "\n",
       "    .dataframe tbody tr th {\n",
       "        vertical-align: top;\n",
       "    }\n",
       "\n",
       "    .dataframe thead th {\n",
       "        text-align: right;\n",
       "    }\n",
       "</style>\n",
       "<table border=\"1\" class=\"dataframe\">\n",
       "  <thead>\n",
       "    <tr style=\"text-align: right;\">\n",
       "      <th></th>\n",
       "      <th>Description</th>\n",
       "      <th>Description_new</th>\n",
       "      <th>Description_new1</th>\n",
       "    </tr>\n",
       "  </thead>\n",
       "  <tbody>\n",
       "    <tr>\n",
       "      <th>0</th>\n",
       "      <td>verified user details employee manager checked user ad reset password advised user login check c...</td>\n",
       "      <td>verified user details  employee    manager name   checked the user name in ad and reset the pas...</td>\n",
       "      <td>verified user details employee manager checked user ad reset password advised user login check c...</td>\n",
       "    </tr>\n",
       "    <tr>\n",
       "      <th>1</th>\n",
       "      <td>received kim walker team meetings skype meetings etc appearing outlook calendar somebody please ...</td>\n",
       "      <td>received from  kim walker kennametal com  hello team   my meetings skype meetings etc are not ...</td>\n",
       "      <td>received kim walker team meetings skype meetings etc appearing outlook calendar somebody please ...</td>\n",
       "    </tr>\n",
       "    <tr>\n",
       "      <th>2</th>\n",
       "      <td>received jaques vanderberg cannot log vpn best regards jaques van der berg field sales engineer ...</td>\n",
       "      <td>received from  jaques vanderberg kennametal com  hi  i cannot log on to vpn  best regards  jaq...</td>\n",
       "      <td>received jaques vanderberg cannot log vpn best regards jaques van der berg field sales engineer ...</td>\n",
       "    </tr>\n",
       "    <tr>\n",
       "      <th>3</th>\n",
       "      <td>unable access adp page</td>\n",
       "      <td>unable to access adp page</td>\n",
       "      <td>unable access adp page</td>\n",
       "    </tr>\n",
       "    <tr>\n",
       "      <th>4</th>\n",
       "      <td>unable log euremote</td>\n",
       "      <td>unable to log in to euremote</td>\n",
       "      <td>unable log euremote</td>\n",
       "    </tr>\n",
       "    <tr>\n",
       "      <th>5</th>\n",
       "      <td>skype error</td>\n",
       "      <td>skype error</td>\n",
       "      <td>skype error</td>\n",
       "    </tr>\n",
       "    <tr>\n",
       "      <th>6</th>\n",
       "      <td>unable log tool reporter skype</td>\n",
       "      <td>unable to log in to tool reporter and skype</td>\n",
       "      <td>unable log tool reporter skype</td>\n",
       "    </tr>\n",
       "    <tr>\n",
       "      <th>7</th>\n",
       "      <td>event critical axhq kmtl value mountpoint threshold oracle p sapdata sr psa sr psa data psapsr psa</td>\n",
       "      <td>event  critical axhq  kmtl com the value of mountpoint threshold for  oracle p  sapdata  sr psa ...</td>\n",
       "      <td>event critical axhq kmtl value mountpoint threshold oracle p sapdata sr psa sr psa data psapsr psa</td>\n",
       "    </tr>\n",
       "    <tr>\n",
       "      <th>8</th>\n",
       "      <td>greq employment status new non employee enter user</td>\n",
       "      <td>greq   employment status   new non employee  enter user s name</td>\n",
       "      <td>greq employment status new non employee enter user</td>\n",
       "    </tr>\n",
       "    <tr>\n",
       "      <th>9</th>\n",
       "      <td>unable disable add ins outlook</td>\n",
       "      <td>unable to disable add ins on outlook</td>\n",
       "      <td>unable disable add ins outlook</td>\n",
       "    </tr>\n",
       "  </tbody>\n",
       "</table>\n",
       "</div>"
      ],
      "text/plain": [
       "                                                                                           Description  \\\n",
       "0  verified user details employee manager checked user ad reset password advised user login check c...   \n",
       "1  received kim walker team meetings skype meetings etc appearing outlook calendar somebody please ...   \n",
       "2  received jaques vanderberg cannot log vpn best regards jaques van der berg field sales engineer ...   \n",
       "3                                                                               unable access adp page   \n",
       "4                                                                                  unable log euremote   \n",
       "5                                                                                          skype error   \n",
       "6                                                                       unable log tool reporter skype   \n",
       "7   event critical axhq kmtl value mountpoint threshold oracle p sapdata sr psa sr psa data psapsr psa   \n",
       "8                                                   greq employment status new non employee enter user   \n",
       "9                                                                       unable disable add ins outlook   \n",
       "\n",
       "                                                                                       Description_new  \\\n",
       "0   verified user details  employee    manager name   checked the user name in ad and reset the pas...   \n",
       "1    received from  kim walker kennametal com  hello team   my meetings skype meetings etc are not ...   \n",
       "2    received from  jaques vanderberg kennametal com  hi  i cannot log on to vpn  best regards  jaq...   \n",
       "3                                                                            unable to access adp page   \n",
       "4                                                                         unable to log in to euremote   \n",
       "5                                                                                         skype error    \n",
       "6                                                          unable to log in to tool reporter and skype   \n",
       "7  event  critical axhq  kmtl com the value of mountpoint threshold for  oracle p  sapdata  sr psa ...   \n",
       "8                                      greq   employment status   new non employee  enter user s name    \n",
       "9                                                                 unable to disable add ins on outlook   \n",
       "\n",
       "                                                                                      Description_new1  \n",
       "0  verified user details employee manager checked user ad reset password advised user login check c...  \n",
       "1  received kim walker team meetings skype meetings etc appearing outlook calendar somebody please ...  \n",
       "2  received jaques vanderberg cannot log vpn best regards jaques van der berg field sales engineer ...  \n",
       "3                                                                               unable access adp page  \n",
       "4                                                                                  unable log euremote  \n",
       "5                                                                                          skype error  \n",
       "6                                                                       unable log tool reporter skype  \n",
       "7   event critical axhq kmtl value mountpoint threshold oracle p sapdata sr psa sr psa data psapsr psa  \n",
       "8                                                   greq employment status new non employee enter user  \n",
       "9                                                                       unable disable add ins outlook  "
      ]
     },
     "execution_count": 244,
     "metadata": {},
     "output_type": "execute_result"
    }
   ],
   "source": [
    "sn_inc[['Description','Description_new','Description_new1']].head(10)"
   ]
  },
  {
   "cell_type": "code",
   "execution_count": 245,
   "metadata": {},
   "outputs": [],
   "source": [
    "#Creating a sets whith all distinct words for short description\n",
    "DD=sn_inc['Description']\n",
    "tokenized_word_DD=word_tokenize(str(DD))\n",
    "#testing for 10 words so seprated"
   ]
  },
  {
   "cell_type": "code",
   "execution_count": 246,
   "metadata": {},
   "outputs": [
    {
     "name": "stdout",
     "output_type": "stream",
     "text": [
      "<FreqDist with 464 samples and 657 outcomes>\n"
     ]
    }
   ],
   "source": [
    "from nltk.probability import FreqDist\n",
    "DDfreq = FreqDist(tokenized_word_DD)\n",
    "print(DDfreq)"
   ]
  },
  {
   "cell_type": "code",
   "execution_count": 247,
   "metadata": {},
   "outputs": [],
   "source": [
    "topword= DDfreq.most_common(10)"
   ]
  },
  {
   "cell_type": "code",
   "execution_count": 248,
   "metadata": {},
   "outputs": [
    {
     "data": {
      "text/plain": [
       "[('...', 24),\n",
       " ('unable', 12),\n",
       " ('user', 10),\n",
       " ('received', 8),\n",
       " ('vpn', 6),\n",
       " ('please', 5),\n",
       " ('log', 5),\n",
       " ('p', 5),\n",
       " ('see', 5),\n",
       " ('login', 4)]"
      ]
     },
     "execution_count": 248,
     "metadata": {},
     "output_type": "execute_result"
    }
   ],
   "source": [
    "topword"
   ]
  },
  {
   "cell_type": "code",
   "execution_count": 249,
   "metadata": {},
   "outputs": [
    {
     "data": {
      "image/png": "[encoded data removed]",
      "text/plain": [
       "<Figure size 432x288 with 1 Axes>"
      ]
     },
     "metadata": {
      "needs_background": "light"
     },
     "output_type": "display_data"
    }
   ],
   "source": [
    "import matplotlib.pyplot as plt\n",
    "DDfreq.plot(20,cumulative=False)\n",
    "plt.show()"
   ]
  },
  {
   "cell_type": "code",
   "execution_count": 250,
   "metadata": {},
   "outputs": [
    {
     "name": "stdout",
     "output_type": "stream",
     "text": [
      "<wordcloud.wordcloud.WordCloud object at 0x15b312940>\n"
     ]
    },
    {
     "data": {
      "image/png": "[encoded data removed]",
      "text/plain": [
       "<Figure size 1440x720 with 1 Axes>"
      ]
     },
     "metadata": {},
     "output_type": "display_data"
    }
   ],
   "source": [
    "import matplotlib.pyplot as plt # visualization\n",
    "import seaborn as sns # visualization \n",
    "from wordcloud import WordCloud, STOPWORDS # this module is for making wordcloud in python\n",
    "\n",
    "# difine wordcloud function from wordcloud library. set some parameteres for beatuful plotting\n",
    "wc = WordCloud(width = 3000,\n",
    "    height = 2000,\n",
    "    background_color = 'black',\n",
    "    stopwords = STOPWORDS)\n",
    "# generate word cloud using df_yelp_tip_top['text_clear']\n",
    "wc_word=wc.generate(str(sn_inc['Description']))\n",
    "print(wc_word)\n",
    "# declare our figure \n",
    "plt.figure(figsize=(20,10), facecolor='k')\n",
    "# add title to the graph\n",
    "plt.title(\"Most frequent words in Discription dataset\", fontsize=40,color='white')\n",
    "plt.imshow(wc_word)\n",
    "plt.show()"
   ]
  },
  {
   "cell_type": "markdown",
   "metadata": {},
   "source": [
    "### Remove any additional text after this text 'regards', 'thanks', 'thankyou','thank you','this communication is intended'"
   ]
  },
  {
   "cell_type": "code",
   "execution_count": 251,
   "metadata": {},
   "outputs": [],
   "source": [
    "pattern = re.compile(\"regards|thanks|thankyou|thank you|this communication is intended|best regard\")"
   ]
  },
  {
   "cell_type": "code",
   "execution_count": 252,
   "metadata": {},
   "outputs": [],
   "source": [
    "sn_inc['Description'] = sn_inc['Description'].apply(lambda x: searchRE(pattern,'',x))\n",
    "df_val['Description'] = df_val['Description'].apply(lambda x: searchRE(pattern,'',x))"
   ]
  },
  {
   "cell_type": "code",
   "execution_count": 253,
   "metadata": {},
   "outputs": [],
   "source": [
    "\n",
    "import re\n",
    "text1 = \"THIS COMMUNICATION IS INTENDED FOR THE SOLE USE OF THE PERSON TO WHOM IT IS ADDRESSED AND MAY CONTAIN INFORMATION THAT IS PRIVILEGED, CONFIDENTIAL AND EXEMPT FROM DISCLOSURE UNDER APPLICABLE LAW. ANY DISSEMINATION, DISTRIBUTION OR DUPLICATION OF THIS COMMUNICATION BY SOMEONE OTHER THAN THE INTENDED RECIPIENT IS STRICTLY PROHIBITED. IF YOUR RECEIPT OF THIS COMMUNICATION IS IN ERROR, PLEASE NOTIFY THE SENDER AND DELETE THIS COMMUNICATION\"\n",
    "sn_inc['Description'] = sn_inc['Description'].apply(lambda x: searchRE(text1,'',x))\n",
    "df_val['Description'] = df_val['Description'].apply(lambda x: searchRE(text1,'',x))\n"
   ]
  },
  {
   "cell_type": "code",
   "execution_count": 254,
   "metadata": {},
   "outputs": [],
   "source": [
    "text2 = \"Select the following link to view the Disclaimer in an alternate language.\""
   ]
  },
  {
   "cell_type": "code",
   "execution_count": 255,
   "metadata": {},
   "outputs": [],
   "source": [
    "sn_inc['Description'] = sn_inc['Description'].apply(lambda x: searchRE(text2,'',x))\n",
    "df_val['Description'] = df_val['Description'].apply(lambda x: searchRE(text2,'',x))"
   ]
  },
  {
   "cell_type": "code",
   "execution_count": 257,
   "metadata": {},
   "outputs": [
    {
     "data": {
      "text/plain": [
       "0    verified user details employee manager checked user ad reset password advised user login check c...\n",
       "1    received kim walker team meetings skype meetings etc appearing outlook calendar somebody please ...\n",
       "2    received jaques vanderberg cannot log vpn s jaques van der berg field sales engineer qld earthwo...\n",
       "3                                                                                 unable access adp page\n",
       "4                                                                                    unable log euremote\n",
       "5                                                                                            skype error\n",
       "6                                                                         unable log tool reporter skype\n",
       "7     event critical axhq kmtl value mountpoint threshold oracle p sapdata sr psa sr psa data psapsr psa\n",
       "8                                                     greq employment status new non employee enter user\n",
       "9                                                                         unable disable add ins outlook\n",
       "Name: Description, dtype: object"
      ]
     },
     "execution_count": 257,
     "metadata": {},
     "output_type": "execute_result"
    }
   ],
   "source": [
    "sn_inc['Description'].head(10)"
   ]
  },
  {
   "cell_type": "code",
   "execution_count": 258,
   "metadata": {},
   "outputs": [
    {
     "data": {
      "text/plain": [
       "Index(['Number', 'Priority', 'Caller [Incident]', 'Assignment group',\n",
       "       'Created', 'Assigned to', 'Caller', 'Department', 'Short description',\n",
       "       'Description', 'Resolved', 'Reassignment count', 'Type', 'Severity',\n",
       "       'Description_new', 'Description_new1'],\n",
       "      dtype='object')"
      ]
     },
     "execution_count": 258,
     "metadata": {},
     "output_type": "execute_result"
    }
   ],
   "source": [
    "sn_inc.columns"
   ]
  },
  {
   "cell_type": "code",
   "execution_count": 259,
   "metadata": {},
   "outputs": [],
   "source": [
    "#Creating a sets whith all distinct words for description\n",
    "from nltk.tokenize import word_tokenize\n",
    "tokenized_word_DD=word_tokenize(str(sn_inc[\"Description\"]))"
   ]
  },
  {
   "cell_type": "code",
   "execution_count": 261,
   "metadata": {},
   "outputs": [
    {
     "name": "stdout",
     "output_type": "stream",
     "text": [
      "<FreqDist with 466 samples and 659 outcomes>\n"
     ]
    }
   ],
   "source": [
    "#Description\n",
    "from nltk.probability import FreqDist\n",
    "fdist_DD = FreqDist(tokenized_word_DD)\n",
    "print(fdist_DD)"
   ]
  },
  {
   "cell_type": "code",
   "execution_count": 262,
   "metadata": {},
   "outputs": [
    {
     "data": {
      "text/plain": [
       "[('...', 24),\n",
       " ('unable', 12),\n",
       " ('user', 10),\n",
       " ('received', 8),\n",
       " ('vpn', 6),\n",
       " ('please', 5),\n",
       " ('log', 5),\n",
       " ('p', 5),\n",
       " ('see', 5),\n",
       " ('login', 4),\n",
       " ('check', 4),\n",
       " ('team', 4),\n",
       " ('adp', 4),\n",
       " ('open', 4),\n",
       " ('account', 4),\n",
       " ('pc', 4),\n",
       " ('sap', 4),\n",
       " ('able', 4),\n",
       " ('r', 4),\n",
       " ('reset', 3),\n",
       " ('password', 3),\n",
       " ('skype', 3),\n",
       " ('outlook', 3),\n",
       " ('s', 3),\n",
       " ('access', 3),\n",
       " ('psa', 3),\n",
       " ('site', 3),\n",
       " ('time', 3),\n",
       " ('payslips', 3),\n",
       " ('link', 3),\n",
       " ('connect', 3),\n",
       " ('system', 3),\n",
       " ('price', 3),\n",
       " ('quote', 3),\n",
       " ('one', 3),\n",
       " ('email', 3),\n",
       " ('q', 3),\n",
       " ('bitte', 3),\n",
       " (':', 3),\n",
       " ('employee', 2),\n",
       " ('ad', 2),\n",
       " ('meetings', 2),\n",
       " ('jaques', 2),\n",
       " ('der', 2),\n",
       " ('field', 2),\n",
       " ('sales', 2),\n",
       " ('page', 2),\n",
       " ('error', 2),\n",
       " ('tool', 2),\n",
       " ('reporter', 2),\n",
       " ('event', 2),\n",
       " ('sr', 2),\n",
       " ('status', 2),\n",
       " ('new', 2),\n",
       " ('add', 2),\n",
       " ('ticket', 2),\n",
       " ('update', 2),\n",
       " ('inc', 2),\n",
       " ('connected', 2),\n",
       " ('correctly', 2),\n",
       " ('screen', 2),\n",
       " ('locked', 2),\n",
       " ('working', 2),\n",
       " ('austauschen', 2),\n",
       " ('eemw', 2),\n",
       " ('halle', 2),\n",
       " ('b', 2),\n",
       " ('application', 2),\n",
       " ('ed', 2),\n",
       " ('zapf', 2),\n",
       " ('incorrect', 2),\n",
       " ('attachments', 2),\n",
       " ('voucher', 2),\n",
       " ('two', 2),\n",
       " ('consumed', 2),\n",
       " ('ple', 2),\n",
       " ('ie', 2),\n",
       " ('harrer', 2),\n",
       " ('sent', 2),\n",
       " ('created', 2),\n",
       " ('order', 2),\n",
       " ('examples', 2),\n",
       " ('erneuern', 2),\n",
       " ('awysm', 2),\n",
       " ('space', 2),\n",
       " ('program', 2),\n",
       " ('material', 2),\n",
       " ('mm', 2),\n",
       " ('downloading', 2),\n",
       " ('jayanth', 2),\n",
       " (',', 2),\n",
       " ('0', 1),\n",
       " ('verified', 1),\n",
       " ('details', 1),\n",
       " ('manager', 1),\n",
       " ('checked', 1),\n",
       " ('advised', 1),\n",
       " ('c', 1),\n",
       " ('1', 1),\n",
       " ('kim', 1),\n",
       " ('walker', 1),\n",
       " ('etc', 1),\n",
       " ('appearing', 1),\n",
       " ('calendar', 1),\n",
       " ('somebody', 1),\n",
       " ('2', 1),\n",
       " ('vanderberg', 1),\n",
       " ('can', 1),\n",
       " ('not', 1),\n",
       " ('van', 1),\n",
       " ('berg', 1),\n",
       " ('engineer', 1),\n",
       " ('qld', 1),\n",
       " ('earthwo', 1),\n",
       " ('3', 1),\n",
       " ('4', 1),\n",
       " ('euremote', 1),\n",
       " ('5', 1),\n",
       " ('6', 1),\n",
       " ('7', 1),\n",
       " ('critical', 1),\n",
       " ('axhq', 1),\n",
       " ('kmtl', 1),\n",
       " ('value', 1),\n",
       " ('mountpoint', 1),\n",
       " ('threshold', 1),\n",
       " ('oracle', 1),\n",
       " ('sapdata', 1),\n",
       " ('data', 1),\n",
       " ('psapsr', 1),\n",
       " ('8', 1),\n",
       " ('greq', 1),\n",
       " ('employment', 1),\n",
       " ('non', 1),\n",
       " ('enter', 1),\n",
       " ('9', 1),\n",
       " ('disable', 1),\n",
       " ('ins', 1),\n",
       " ('10', 1),\n",
       " ('11', 1),\n",
       " ('says', 1),\n",
       " ('submit', 1),\n",
       " ('reports', 1),\n",
       " ('12', 1),\n",
       " ('loading', 1),\n",
       " ('13', 1),\n",
       " ('cards', 1),\n",
       " ('14', 1),\n",
       " ('wants', 1),\n",
       " ('15', 1),\n",
       " ('16', 1),\n",
       " ('17', 1),\n",
       " ('expired', 1),\n",
       " ('18', 1),\n",
       " ('nagarathna', 1),\n",
       " ('sreenivasapura', 1),\n",
       " ('website', 1),\n",
       " ('trying', 1),\n",
       " ('session', 1),\n",
       " ('using', 1),\n",
       " ('a', 1),\n",
       " ('19', 1),\n",
       " ('undocking', 1),\n",
       " ('come', 1),\n",
       " ('back', 1),\n",
       " ('20', 1),\n",
       " ('21', 1),\n",
       " ('sign', 1),\n",
       " ('22', 1),\n",
       " ('23', 1),\n",
       " ('eva', 1),\n",
       " ('tanczos', 1),\n",
       " ('helpdesk', 1),\n",
       " ('home', 1),\n",
       " ('office', 1),\n",
       " ('couple', 1),\n",
       " ('f', 1),\n",
       " ('hours', 1),\n",
       " ('ago', 1),\n",
       " ('24', 1),\n",
       " ('25', 1),\n",
       " ('called', 1),\n",
       " ('vox', 1),\n",
       " ('phone', 1),\n",
       " ('number', 1),\n",
       " ('26', 1),\n",
       " ('kuntal', 1),\n",
       " ('nandi', 1),\n",
       " ('kmt', 1),\n",
       " ('network', 1),\n",
       " ('pls', 1),\n",
       " ('cc', 1),\n",
       " ('praneet', 1),\n",
       " ('sir', 1),\n",
       " ('upload', 1),\n",
       " ('tprs', 1),\n",
       " ('res', 1),\n",
       " ('27', 1),\n",
       " ('28', 1),\n",
       " ('29', 1),\n",
       " ('16856', 1),\n",
       " ('monitor', 1),\n",
       " ('service', 1),\n",
       " ('tag', 1),\n",
       " ('hpbyxk', 1),\n",
       " ('16857', 1),\n",
       " ('manueller', 1),\n",
       " ('laser', 1),\n",
       " ('handscanner', 1),\n",
       " ('gibt', 1),\n",
       " ('englisches', 1),\n",
       " ('tastaturlayout', 1),\n",
       " ('zuruck', 1),\n",
       " ('trotz', 1),\n",
       " ('deutscher', 1),\n",
       " ('tast', 1),\n",
       " ('16858', 1),\n",
       " ('seek', 1),\n",
       " ('support', 1),\n",
       " ('enable', 1),\n",
       " ('survey', 1),\n",
       " ('innov', 1),\n",
       " ('needful', 1),\n",
       " ('saravana', 1),\n",
       " ('kumar', 1),\n",
       " ('analyst', 1),\n",
       " ('global', 1),\n",
       " ('servi', 1),\n",
       " ('16859', 1),\n",
       " ('gilles', 1),\n",
       " ('festeau', 1),\n",
       " ('good', 1),\n",
       " ('morning', 1),\n",
       " ('connection', 1),\n",
       " ('stellram', 1),\n",
       " ('software', 1),\n",
       " ('work', 1),\n",
       " ('stellramapps', 1),\n",
       " ('16860', 1),\n",
       " ('edi', 1),\n",
       " ('onboarding', 1),\n",
       " ('honeywell', 1),\n",
       " ('mx', 1),\n",
       " ('sold', 1),\n",
       " ('bill', 1),\n",
       " ('ship', 1),\n",
       " ('min', 1),\n",
       " ('file', 1),\n",
       " ('types', 1),\n",
       " ('contact', 1),\n",
       " ('16861', 1),\n",
       " ('source', 1),\n",
       " ('ip', 1),\n",
       " ('location', 1),\n",
       " ('sep', 1),\n",
       " ('sms', 1),\n",
       " ('yes', 1),\n",
       " ('dsw', 1),\n",
       " ('soc', 1),\n",
       " ('le', 1),\n",
       " ('16862', 1),\n",
       " ('konnect', 1),\n",
       " ('shows', 1),\n",
       " ('unit', 1),\n",
       " ('net', 1),\n",
       " ('total', 1),\n",
       " ('well', 1),\n",
       " ('cart', 1),\n",
       " ('configurat', 1),\n",
       " ('16863', 1),\n",
       " ('supervisor', 1),\n",
       " ('receive', 1),\n",
       " ('members', 1),\n",
       " ('card', 1),\n",
       " ('requests', 1),\n",
       " ('approve', 1),\n",
       " ('opening', 1),\n",
       " ('exa', 1),\n",
       " ('16864', 1),\n",
       " ('balance', 1),\n",
       " ('however', 1),\n",
       " ('find', 1),\n",
       " ('purchase', 1),\n",
       " ('used', 1),\n",
       " ('items', 1),\n",
       " ('would', 1),\n",
       " ('amount', 1),\n",
       " ('money', 1),\n",
       " ('16865', 1),\n",
       " ('google', 1),\n",
       " ('eew', 1),\n",
       " ('aaron', 1),\n",
       " ('language', 1),\n",
       " ('english', 1),\n",
       " ('tel', 1),\n",
       " ('16866', 1),\n",
       " ('attached', 1),\n",
       " ('notifications', 1),\n",
       " ('coming', 1),\n",
       " ('oneteam', 1),\n",
       " ('successfactors', 1),\n",
       " ('marked', 1),\n",
       " ('external', 1),\n",
       " ('16867', 1),\n",
       " ('concur', 1),\n",
       " ('sandro', 1),\n",
       " ('ceroli', 1),\n",
       " ('id', 1),\n",
       " ('updated', 1),\n",
       " ('kindly', 1),\n",
       " ('assist', 1),\n",
       " ('16868', 1),\n",
       " ('case', 1),\n",
       " ('zcnc', 1),\n",
       " ('loaded', 1),\n",
       " ('vk', 1),\n",
       " ('confirmed', 1),\n",
       " ('distributor', 1),\n",
       " ('book', 1),\n",
       " ('web', 1),\n",
       " ('scale', 1),\n",
       " ('quantity', 1),\n",
       " ('booked', 1),\n",
       " ('widia', 1),\n",
       " ('cente', 1),\n",
       " ('16869', 1),\n",
       " ('looks', 1),\n",
       " ('like', 1),\n",
       " ('hanging', 1),\n",
       " ('pi', 1),\n",
       " ('adapter', 1),\n",
       " ('example', 1),\n",
       " ('16870', 1),\n",
       " ('use', 1),\n",
       " ('settings', 1),\n",
       " ('printer', 1),\n",
       " ('dw', 1),\n",
       " ('thank', 1),\n",
       " ('manthira', 1),\n",
       " ('moorthy', 1),\n",
       " ('sunday', 1),\n",
       " ('april', 1),\n",
       " ('tobias', 1),\n",
       " ('e', 1),\n",
       " ('16871', 1),\n",
       " ('duplication', 1),\n",
       " ('tracked', 1),\n",
       " ('contacts', 1),\n",
       " ('uninstall', 1),\n",
       " ('reinstall', 1),\n",
       " ('16872', 1),\n",
       " ('csreamer', 1),\n",
       " ('tools', 1),\n",
       " ('novo', 1),\n",
       " ('official', 1),\n",
       " ('drawing', 1),\n",
       " ('send', 1),\n",
       " ('models', 1),\n",
       " ('ftp', 1),\n",
       " ('acti', 1),\n",
       " ('16873', 1),\n",
       " ('georg', 1),\n",
       " ('wurdack', 1),\n",
       " ('adressieren', 1),\n",
       " ('da', 1),\n",
       " ('er', 1),\n",
       " ('bereits', 1),\n",
       " ('erfahrung', 1),\n",
       " ('damit', 1),\n",
       " ('hat', 1),\n",
       " ('16874', 1),\n",
       " ('drucker', 1),\n",
       " ('em', 1),\n",
       " ('defekt', 1),\n",
       " ('16875', 1),\n",
       " ('computer', 1),\n",
       " ('ist', 1),\n",
       " ('alter', 1),\n",
       " ('als', 1),\n",
       " ('jahre', 1),\n",
       " ('16876', 1),\n",
       " ('volume', 1),\n",
       " ('h', 1),\n",
       " ('\\\\', 1),\n",
       " ('label', 1),\n",
       " ('dat', 1),\n",
       " ('fixture', 1),\n",
       " ('server', 1),\n",
       " ('available', 1),\n",
       " ('g', 1),\n",
       " ('16877', 1),\n",
       " ('steht', 1),\n",
       " ('mittelgang', 1),\n",
       " ('16878', 1),\n",
       " ('frequent', 1),\n",
       " ('database', 1),\n",
       " ('transaction', 1),\n",
       " ('outs', 1),\n",
       " ('16879', 1),\n",
       " ('upgrades', 1),\n",
       " ('master', 1),\n",
       " ('abc', 1),\n",
       " ('item', 1),\n",
       " ('category', 1),\n",
       " ('norm', 1),\n",
       " ('contract', 1),\n",
       " ('issued', 1),\n",
       " ('special', 1),\n",
       " ('supposed', 1),\n",
       " ('16880', 1),\n",
       " ('den', 1),\n",
       " ('im', 1),\n",
       " ('teamraum', 1),\n",
       " ('ff', 1),\n",
       " ('wear', 1),\n",
       " ('oder', 1),\n",
       " ('massive', 1),\n",
       " ('performance', 1),\n",
       " ('probleme', 1),\n",
       " ('die', 1),\n",
       " ('nich', 1),\n",
       " ('16881', 1),\n",
       " ('notes', 1),\n",
       " ('tested', 1),\n",
       " ('16882', 1),\n",
       " ('information', 1),\n",
       " ('powder', 1),\n",
       " ('old', 1),\n",
       " ('others', 1),\n",
       " ('looked', 1),\n",
       " ('16883', 1),\n",
       " ('request', 1),\n",
       " ('give', 1),\n",
       " ('tess', 1),\n",
       " ('userid', 1),\n",
       " ('pu', 1),\n",
       " ('dsc', 1),\n",
       " ('round', 1),\n",
       " ('to', 1),\n",
       " ('16884', 1),\n",
       " ('gopal', 1),\n",
       " ('ashwin', 1),\n",
       " ('wrong', 1),\n",
       " ('calculated', 1),\n",
       " ('specials', 1),\n",
       " ('complaint', 1),\n",
       " ('referenced', 1),\n",
       " ('invoice', 1),\n",
       " ('first', 1),\n",
       " ('16885', 1),\n",
       " ('administrator', 1),\n",
       " ('monitore', 1),\n",
       " ('originals', 1),\n",
       " ('subjects', 1),\n",
       " ('neither', 1),\n",
       " ('review', 1),\n",
       " ('ug', 1),\n",
       " ('manufacturing', 1),\n",
       " ('hold', 1),\n",
       " ('due', 1),\n",
       " ('Name', 1),\n",
       " ('Description', 1),\n",
       " ('Length', 1),\n",
       " ('100159', 1),\n",
       " ('dtype', 1),\n",
       " ('object', 1)]"
      ]
     },
     "execution_count": 262,
     "metadata": {},
     "output_type": "execute_result"
    }
   ],
   "source": [
    "fdist_DD.most_common()"
   ]
  },
  {
   "cell_type": "code",
   "execution_count": null,
   "metadata": {},
   "outputs": [],
   "source": []
  },
  {
   "cell_type": "code",
   "execution_count": null,
   "metadata": {},
   "outputs": [],
   "source": []
  },
  {
   "cell_type": "code",
   "execution_count": null,
   "metadata": {},
   "outputs": [],
   "source": [
    "from sklearn.pipeline import Pipeline\n",
    "from sklearn.feature_extraction.text import TfidfTransformer"
   ]
  },
  {
   "cell_type": "markdown",
   "metadata": {},
   "source": [
    "### Feature Engineering"
   ]
  },
  {
   "cell_type": "markdown",
   "metadata": {},
   "source": [
    "Join Short Description and Detailed Description to create a new column called SD - DD"
   ]
  },
  {
   "cell_type": "code",
   "execution_count": 263,
   "metadata": {},
   "outputs": [],
   "source": [
    "# Join Short Description and Detailed Description to create a new column called SD - DD\n",
    "sn_inc[\"SD - DD\"] = sn_inc['Short description'].str.cat(sn_inc[\"Description\"], sep= ' - ')\n",
    "df_val[\"SD - DD\"] = df_val['Short description'].str.cat(df_val[\"Description\"], sep= ' - ')"
   ]
  },
  {
   "cell_type": "code",
   "execution_count": 264,
   "metadata": {},
   "outputs": [
    {
     "name": "stdout",
     "output_type": "stream",
     "text": [
      "Data Set Length with Null Values in SD - DD Column - 0\n",
      "Test Data Set Length with Null Values in SD - DD Column - 0\n"
     ]
    }
   ],
   "source": [
    "# Identify null values from Description\n",
    "nan_rows = sn_inc[sn_inc['SD - DD'].isnull()]\n",
    "print(\"Data Set Length with Null Values in SD - DD Column -\",len(nan_rows))\n",
    "nan_rows = df_val[df_val['SD - DD'].isnull()]\n",
    "print(\"Test Data Set Length with Null Values in SD - DD Column -\",len(nan_rows))"
   ]
  },
  {
   "cell_type": "markdown",
   "metadata": {},
   "source": [
    "Join Short Description and Detailed Description with Caller to create a new column called SD - DD - Caller"
   ]
  },
  {
   "cell_type": "code",
   "execution_count": 265,
   "metadata": {},
   "outputs": [
    {
     "data": {
      "text/plain": [
       "Index(['Number', 'Priority', 'Caller [Incident]', 'Assignment group',\n",
       "       'Created', 'Assigned to', 'Caller', 'Department', 'Short description',\n",
       "       'Description', 'Resolved', 'Reassignment count', 'Type', 'Severity',\n",
       "       'Description_new', 'Description_new1', 'SD - DD'],\n",
       "      dtype='object')"
      ]
     },
     "execution_count": 265,
     "metadata": {},
     "output_type": "execute_result"
    }
   ],
   "source": [
    "sn_inc.columns"
   ]
  },
  {
   "cell_type": "code",
   "execution_count": 266,
   "metadata": {},
   "outputs": [],
   "source": [
    "# Join Short Description and Detailed Description with Caller to create a new column called SD - DD - Caller\n",
    "sn_inc[\"SD - DD - Caller\"] = sn_inc['SD - DD'].str.cat(sn_inc[\"Caller\"], sep= ' - ')\n",
    "df_val[\"SD - DD - Caller\"] = df_val['SD - DD'].str.cat(df_val[\"Caller\"], sep= ' - ')"
   ]
  },
  {
   "cell_type": "code",
   "execution_count": 267,
   "metadata": {},
   "outputs": [
    {
     "name": "stdout",
     "output_type": "stream",
     "text": [
      "Data Set Length with Null Values in SD - DD - Caller Column - 2\n",
      "Test Data Set Length with Null Values in SD - DD - Caller Column - 1\n"
     ]
    }
   ],
   "source": [
    "# Identify null values from Short Description\n",
    "nan_rows = sn_inc[sn_inc['SD - DD - Caller'].isnull()]\n",
    "print(\"Data Set Length with Null Values in SD - DD - Caller Column -\",len(nan_rows))\n",
    "nan_rows = df_val[df_val['SD - DD - Caller'].isnull()]\n",
    "print(\"Test Data Set Length with Null Values in SD - DD - Caller Column -\",len(nan_rows))"
   ]
  },
  {
   "cell_type": "code",
   "execution_count": 268,
   "metadata": {},
   "outputs": [],
   "source": [
    "# Replace Nan values in Short description to THE - since this stop word will be eliminated in the vectorization\n",
    "sn_inc[\"SD - DD - Caller\"].fillna(\"The\", inplace=True)\n",
    "df_val[\"SD - DD - Caller\"].fillna(\"The\", inplace=True)"
   ]
  },
  {
   "cell_type": "code",
   "execution_count": 269,
   "metadata": {},
   "outputs": [],
   "source": [
    "# Join Short Description and Detailed Description with Department to create a new column called SD - DD - Dept\n",
    "sn_inc[\"SD - DD - Dept\"] = sn_inc['SD - DD'].str.cat(sn_inc[\"Department\"], sep= ' - ')\n",
    "df_val[\"SD - DD - Dept\"] = df_val['SD - DD'].str.cat(df_val[\"Department\"], sep= ' - ')"
   ]
  },
  {
   "cell_type": "code",
   "execution_count": 270,
   "metadata": {},
   "outputs": [
    {
     "name": "stdout",
     "output_type": "stream",
     "text": [
      "Data Set Length with Null Values in SD - DD - Dept Column - 6414\n",
      "Test Data Set Length with Null Values in SD - DD - Dept Column - 1726\n"
     ]
    }
   ],
   "source": [
    "# Identify null values from Short Department\n",
    "nan_rows = sn_inc[sn_inc['SD - DD - Dept'].isnull()]\n",
    "print(\"Data Set Length with Null Values in SD - DD - Dept Column -\",len(nan_rows))\n",
    "nan_rows = df_val[df_val['SD - DD - Dept'].isnull()]\n",
    "print(\"Test Data Set Length with Null Values in SD - DD - Dept Column -\",len(nan_rows))"
   ]
  },
  {
   "cell_type": "code",
   "execution_count": 271,
   "metadata": {},
   "outputs": [],
   "source": [
    "# Replace Nan values in Short description to THE - since this stop word will be eliminated in the vectorization\n",
    "sn_inc[\"SD - DD - Dept\"].fillna(\"The\", inplace=True)\n",
    "df_val[\"SD - DD - Dept\"].fillna(\"The\", inplace=True)"
   ]
  },
  {
   "cell_type": "code",
   "execution_count": 272,
   "metadata": {},
   "outputs": [],
   "source": [
    "# Join Short Description and Detailed Description and Caller with Department to create a new column called SD - DD - Caller - Dept\n",
    "sn_inc[\"SD - DD - Caller - Dept\"] = sn_inc['SD - DD - Caller'].str.cat(sn_inc[\"Department\"], sep= ' - ')\n",
    "df_val[\"SD - DD - Caller - Dept\"] = df_val['SD - DD - Caller'].str.cat(df_val[\"Department\"], sep= ' - ')"
   ]
  },
  {
   "cell_type": "code",
   "execution_count": 273,
   "metadata": {},
   "outputs": [
    {
     "name": "stdout",
     "output_type": "stream",
     "text": [
      "Data Set Length with Null Values in SD - DD - Caller - Dept Column - 6414\n",
      "Test Data Set Length with Null Values in SD - DD - Caller - Dept Column - 1726\n"
     ]
    }
   ],
   "source": [
    "# Identify null values from Short Description\n",
    "nan_rows = sn_inc[sn_inc['SD - DD - Caller - Dept'].isnull()]\n",
    "print(\"Data Set Length with Null Values in SD - DD - Caller - Dept Column -\",len(nan_rows))\n",
    "nan_rows = df_val[df_val['SD - DD - Caller - Dept'].isnull()]\n",
    "print(\"Test Data Set Length with Null Values in SD - DD - Caller - Dept Column -\",len(nan_rows))"
   ]
  },
  {
   "cell_type": "code",
   "execution_count": 274,
   "metadata": {},
   "outputs": [],
   "source": [
    "# Replace Nan values in Short description to THE - since this stop word will be eliminated in the vectorization\n",
    "sn_inc[\"SD - DD - Caller - Dept\"].fillna(\"The\", inplace=True)\n",
    "df_val[\"SD - DD - Caller - Dept\"].fillna(\"The\", inplace=True)"
   ]
  },
  {
   "cell_type": "code",
   "execution_count": 275,
   "metadata": {},
   "outputs": [
    {
     "name": "stdout",
     "output_type": "stream",
     "text": [
      "Data Set Shape -  (100159, 20)\n",
      "Validation Data Set Shape -  (25661, 18)\n"
     ]
    }
   ],
   "source": [
    "print(\"Data Set Shape - \",sn_inc.shape)\n",
    "print(\"Validation Data Set Shape - \",df_val.shape)"
   ]
  },
  {
   "cell_type": "code",
   "execution_count": 276,
   "metadata": {},
   "outputs": [],
   "source": [
    "# Drop few columns - Department, Assigned to columns (as many of the values are missing Department column)\n",
    "sn_inc = sn_inc.drop({\"Assigned to\",\"Priority\",\"Caller\",\"Number\",\"Resolved\",\"Created\",\"Reassignment count\",\"Severity\",\"Type\"}, axis=1)\n",
    "df_val = df_val.drop({\"Assigned to\",\"Priority\",\"Caller\",\"Number\",\"Resolved\",\"Created\",\"Severity\"}, axis=1)"
   ]
  },
  {
   "cell_type": "code",
   "execution_count": 277,
   "metadata": {},
   "outputs": [
    {
     "name": "stdout",
     "output_type": "stream",
     "text": [
      "<class 'pandas.core.frame.DataFrame'>\n",
      "Int64Index: 100159 entries, 0 to 16885\n",
      "Data columns (total 11 columns):\n",
      "Caller [Incident]          100157 non-null object\n",
      "Assignment group           100132 non-null object\n",
      "Department                 93745 non-null object\n",
      "Short description          100159 non-null object\n",
      "Description                100159 non-null object\n",
      "Description_new            100159 non-null object\n",
      "Description_new1           100159 non-null object\n",
      "SD - DD                    100159 non-null object\n",
      "SD - DD - Caller           100159 non-null object\n",
      "SD - DD - Dept             100159 non-null object\n",
      "SD - DD - Caller - Dept    100159 non-null object\n",
      "dtypes: object(11)\n",
      "memory usage: 9.2+ MB\n"
     ]
    }
   ],
   "source": [
    "sn_inc.info()"
   ]
  },
  {
   "cell_type": "code",
   "execution_count": 278,
   "metadata": {},
   "outputs": [
    {
     "data": {
      "text/plain": [
       "Caller [Incident]             2\n",
       "Assignment group             27\n",
       "Department                 6414\n",
       "Short description             0\n",
       "Description                   0\n",
       "Description_new               0\n",
       "Description_new1              0\n",
       "SD - DD                       0\n",
       "SD - DD - Caller              0\n",
       "SD - DD - Dept                0\n",
       "SD - DD - Caller - Dept       0\n",
       "dtype: int64"
      ]
     },
     "execution_count": 278,
     "metadata": {},
     "output_type": "execute_result"
    }
   ],
   "source": [
    "# Check for null values\n",
    "sn_inc.isnull().sum()"
   ]
  },
  {
   "cell_type": "code",
   "execution_count": 279,
   "metadata": {},
   "outputs": [],
   "source": [
    "# Drop the rows that have null values in Assignment Groups\n",
    "sn_inc = sn_inc.dropna(subset=[\"Assignment group\"])\n",
    "df_val = df_val.dropna(subset=[\"Assignment group\"])"
   ]
  },
  {
   "cell_type": "code",
   "execution_count": null,
   "metadata": {},
   "outputs": [],
   "source": [
    "# Drop the rows that have null values in Assignment Groups\n",
    "sn_inc = sn_inc.dropna(subset=[\"Assignment group new\"])\n",
    "df_val = df_val.dropna(subset=[\"Assignment group new\"])"
   ]
  },
  {
   "cell_type": "code",
   "execution_count": null,
   "metadata": {
    "scrolled": true
   },
   "outputs": [],
   "source": [
    "var = pd.pivot_table(sn_inc,index=[\"Assignment group new\"],values=[\"Caller [Incident]\"],aggfunc=\"count\").head(60)\n",
    "var.plot(kind='bar',figsize = (15,8))"
   ]
  },
  {
   "cell_type": "code",
   "execution_count": 281,
   "metadata": {},
   "outputs": [
    {
     "name": "stdout",
     "output_type": "stream",
     "text": [
      "There are 8438 callers in this dataset such as Brian Conrad, Kim Walker, Jaques Van Der Berg, John Johnson, Ian Bonnar... \n",
      "\n"
     ]
    }
   ],
   "source": [
    "print(\"There are {} callers in this dataset such as {}... \\n\".format(len(sn_inc[\"Caller [Incident]\"].unique()),\", \".join(sn_inc[\"Caller [Incident]\"].unique()[0:5])))"
   ]
  },
  {
   "cell_type": "markdown",
   "metadata": {},
   "source": [
    "## Varying X and Models, y = Assignment Group"
   ]
  },
  {
   "cell_type": "code",
   "execution_count": 282,
   "metadata": {},
   "outputs": [
    {
     "data": {
      "text/plain": [
       "Index(['Caller [Incident]', 'Assignment group', 'Department',\n",
       "       'Short description', 'Description', 'Description_new',\n",
       "       'Description_new1', 'SD - DD', 'SD - DD - Caller', 'SD - DD - Dept',\n",
       "       'SD - DD - Caller - Dept'],\n",
       "      dtype='object')"
      ]
     },
     "execution_count": 282,
     "metadata": {},
     "output_type": "execute_result"
    }
   ],
   "source": [
    "sn_inc.columns"
   ]
  },
  {
   "cell_type": "code",
   "execution_count": 283,
   "metadata": {},
   "outputs": [],
   "source": [
    "sn_inc = sn_inc.drop({\"Description_new\",\"Description_new1\"}, axis=1)"
   ]
  },
  {
   "cell_type": "code",
   "execution_count": 284,
   "metadata": {},
   "outputs": [
    {
     "data": {
      "text/plain": [
       "Index(['Caller [Incident]', 'Assignment group', 'Department',\n",
       "       'Short description', 'Description', 'SD - DD', 'SD - DD - Caller',\n",
       "       'SD - DD - Dept', 'SD - DD - Caller - Dept'],\n",
       "      dtype='object')"
      ]
     },
     "execution_count": 284,
     "metadata": {},
     "output_type": "execute_result"
    }
   ],
   "source": [
    "sn_inc.columns"
   ]
  },
  {
   "cell_type": "code",
   "execution_count": 285,
   "metadata": {},
   "outputs": [
    {
     "name": "stdout",
     "output_type": "stream",
     "text": [
      "(100132, 2)\n",
      "Unique Asignment Groups - (114, 2)\n"
     ]
    },
    {
     "data": {
      "text/html": [
       "<div>\n",
       "<style scoped>\n",
       "    .dataframe tbody tr th:only-of-type {\n",
       "        vertical-align: middle;\n",
       "    }\n",
       "\n",
       "    .dataframe tbody tr th {\n",
       "        vertical-align: top;\n",
       "    }\n",
       "\n",
       "    .dataframe thead th {\n",
       "        text-align: right;\n",
       "    }\n",
       "</style>\n",
       "<table border=\"1\" class=\"dataframe\">\n",
       "  <thead>\n",
       "    <tr style=\"text-align: right;\">\n",
       "      <th></th>\n",
       "      <th>Assignment group</th>\n",
       "      <th>Assignment group IDs</th>\n",
       "    </tr>\n",
       "  </thead>\n",
       "  <tbody>\n",
       "    <tr>\n",
       "      <th>0</th>\n",
       "      <td>GSO - Service Desk</td>\n",
       "      <td>42</td>\n",
       "    </tr>\n",
       "    <tr>\n",
       "      <th>7</th>\n",
       "      <td>DB Admin</td>\n",
       "      <td>24</td>\n",
       "    </tr>\n",
       "    <tr>\n",
       "      <th>17</th>\n",
       "      <td>Security Admin</td>\n",
       "      <td>90</td>\n",
       "    </tr>\n",
       "    <tr>\n",
       "      <th>19</th>\n",
       "      <td>Americas - PC Services</td>\n",
       "      <td>4</td>\n",
       "    </tr>\n",
       "    <tr>\n",
       "      <th>34</th>\n",
       "      <td>Network Operations</td>\n",
       "      <td>61</td>\n",
       "    </tr>\n",
       "  </tbody>\n",
       "</table>\n",
       "</div>"
      ],
      "text/plain": [
       "          Assignment group  Assignment group IDs\n",
       "0       GSO - Service Desk                    42\n",
       "7                 DB Admin                    24\n",
       "17          Security Admin                    90\n",
       "19  Americas - PC Services                     4\n",
       "34     Network Operations                     61"
      ]
     },
     "execution_count": 285,
     "metadata": {},
     "output_type": "execute_result"
    }
   ],
   "source": [
    "# Create a copy of the data frame to carry out label encoding\n",
    "sn_df1 = sn_inc.copy()\n",
    "# Label encoding for Assignment Group\n",
    "le = LabelEncoder()\n",
    "le.fit(sn_df1['Assignment group'])\n",
    "sn_df1['Assignment Group ID'] = le.transform(sn_df1['Assignment group'])\n",
    "# Create a dictionary\n",
    "labedict = {}\n",
    "\n",
    "# Create a new dataframe to store the original Assignment Group Names and Label encoded Assignment Group IDs\n",
    "dfnew = pd.DataFrame()\n",
    "dfnew['Assignment group'] = sn_df1['Assignment group']\n",
    "dfnew['Assignment group IDs'] = sn_df1['Assignment Group ID']\n",
    "labedict['Assignment group'] = dfnew\n",
    "print(dfnew.shape)\n",
    "\n",
    "# Remove the duplicate values from this new data frame and assign it to a new dataframe\n",
    "# This will consists of unique set of Assignment groups mapped to the label encoded IDs\n",
    "agdf = dfnew[['Assignment group','Assignment group IDs']].drop_duplicates()\n",
    "print(\"Unique Asignment Groups -\", agdf.shape)\n",
    "agdf.head()"
   ]
  },
  {
   "cell_type": "code",
   "execution_count": 286,
   "metadata": {},
   "outputs": [
    {
     "name": "stdout",
     "output_type": "stream",
     "text": [
      "Only Incidents -  (16721, 11)\n",
      "Validation data set shape -  (16721, 12)\n",
      "Data Set Length with Null Values in Assignment group IDs Column - 3\n",
      "Validation data set shape - Post mapping - After dropping null values from Assignment Group IDs (16718, 12)\n"
     ]
    }
   ],
   "source": [
    "# Testing on the validation set\n",
    "agdf1 = dict(zip(agdf['Assignment group'],agdf['Assignment group IDs']))\n",
    "df_val1 = df_val.copy()\n",
    "\n",
    "# Additional filter for Incidents\n",
    "df_val1 = df_val1[df_val1[\"Type\"] == \"INC\"]\n",
    "print(\"Only Incidents - \",df_val1.shape)\n",
    "\n",
    "df_val1['Assignment group IDs'] = df_val1['Assignment group'].map(agdf1)\n",
    "print(\"Validation data set shape - \", df_val1.shape)\n",
    "# Identify null values from Description\n",
    "nan_rows = df_val1[df_val1['Assignment group IDs'].isnull()]\n",
    "print(\"Data Set Length with Null Values in Assignment group IDs Column -\",len(nan_rows))\n",
    "# Drop the rows that have null values in Assignment Groups\n",
    "df_val1 = df_val1.dropna(subset=[\"Assignment group IDs\"])\n",
    "print(\"Validation data set shape - Post mapping - After dropping null values from Assignment Group IDs\", df_val1.shape)"
   ]
  },
  {
   "cell_type": "code",
   "execution_count": 287,
   "metadata": {},
   "outputs": [
    {
     "data": {
      "text/html": [
       "<div>\n",
       "<style scoped>\n",
       "    .dataframe tbody tr th:only-of-type {\n",
       "        vertical-align: middle;\n",
       "    }\n",
       "\n",
       "    .dataframe tbody tr th {\n",
       "        vertical-align: top;\n",
       "    }\n",
       "\n",
       "    .dataframe thead th {\n",
       "        text-align: right;\n",
       "    }\n",
       "</style>\n",
       "<table border=\"1\" class=\"dataframe\">\n",
       "  <thead>\n",
       "    <tr style=\"text-align: right;\">\n",
       "      <th></th>\n",
       "      <th>Caller [Incident]</th>\n",
       "      <th>Assignment group</th>\n",
       "      <th>Department</th>\n",
       "      <th>Short description</th>\n",
       "      <th>Description</th>\n",
       "      <th>SD - DD</th>\n",
       "      <th>SD - DD - Caller</th>\n",
       "      <th>SD - DD - Dept</th>\n",
       "      <th>SD - DD - Caller - Dept</th>\n",
       "      <th>Assignment Group ID</th>\n",
       "    </tr>\n",
       "  </thead>\n",
       "  <tbody>\n",
       "    <tr>\n",
       "      <th>0</th>\n",
       "      <td>Brian Conrad</td>\n",
       "      <td>GSO - Service Desk</td>\n",
       "      <td>IFBG</td>\n",
       "      <td>login issue</td>\n",
       "      <td>verified user details employee manager checked user ad reset password advised user login check c...</td>\n",
       "      <td>login issue - verified user details employee manager checked user ad reset password advised user...</td>\n",
       "      <td>login issue - verified user details employee manager checked user ad reset password advised user...</td>\n",
       "      <td>login issue - verified user details employee manager checked user ad reset password advised user...</td>\n",
       "      <td>login issue - verified user details employee manager checked user ad reset password advised user...</td>\n",
       "      <td>42</td>\n",
       "    </tr>\n",
       "    <tr>\n",
       "      <th>1</th>\n",
       "      <td>Kim Walker</td>\n",
       "      <td>GSO - Service Desk</td>\n",
       "      <td>INBG</td>\n",
       "      <td>outlook</td>\n",
       "      <td>received kim walker team meetings skype meetings etc appearing outlook calendar somebody please ...</td>\n",
       "      <td>outlook - received kim walker team meetings skype meetings etc appearing outlook calendar somebo...</td>\n",
       "      <td>outlook - received kim walker team meetings skype meetings etc appearing outlook calendar somebo...</td>\n",
       "      <td>outlook - received kim walker team meetings skype meetings etc appearing outlook calendar somebo...</td>\n",
       "      <td>outlook - received kim walker team meetings skype meetings etc appearing outlook calendar somebo...</td>\n",
       "      <td>42</td>\n",
       "    </tr>\n",
       "    <tr>\n",
       "      <th>2</th>\n",
       "      <td>Jaques Van Der Berg</td>\n",
       "      <td>GSO - Service Desk</td>\n",
       "      <td>IFBG</td>\n",
       "      <td>cant log vpn</td>\n",
       "      <td>received jaques vanderberg cannot log vpn s jaques van der berg field sales engineer qld earthwo...</td>\n",
       "      <td>cant log vpn - received jaques vanderberg cannot log vpn s jaques van der berg field sales engin...</td>\n",
       "      <td>cant log vpn - received jaques vanderberg cannot log vpn s jaques van der berg field sales engin...</td>\n",
       "      <td>cant log vpn - received jaques vanderberg cannot log vpn s jaques van der berg field sales engin...</td>\n",
       "      <td>cant log vpn - received jaques vanderberg cannot log vpn s jaques van der berg field sales engin...</td>\n",
       "      <td>42</td>\n",
       "    </tr>\n",
       "    <tr>\n",
       "      <th>3</th>\n",
       "      <td>John Johnson</td>\n",
       "      <td>GSO - Service Desk</td>\n",
       "      <td>INBG</td>\n",
       "      <td>unable access adp page</td>\n",
       "      <td>unable access adp page</td>\n",
       "      <td>unable access adp page - unable access adp page</td>\n",
       "      <td>unable access adp page - unable access adp page - John Johnson</td>\n",
       "      <td>unable access adp page - unable access adp page - INBG</td>\n",
       "      <td>unable access adp page - unable access adp page - John Johnson - INBG</td>\n",
       "      <td>42</td>\n",
       "    </tr>\n",
       "    <tr>\n",
       "      <th>4</th>\n",
       "      <td>Ian Bonnar</td>\n",
       "      <td>GSO - Service Desk</td>\n",
       "      <td>NaN</td>\n",
       "      <td>unable log euremote</td>\n",
       "      <td>unable log euremote</td>\n",
       "      <td>unable log euremote - unable log euremote</td>\n",
       "      <td>unable log euremote - unable log euremote - Ian Bonnar</td>\n",
       "      <td>The</td>\n",
       "      <td>The</td>\n",
       "      <td>42</td>\n",
       "    </tr>\n",
       "  </tbody>\n",
       "</table>\n",
       "</div>"
      ],
      "text/plain": [
       "     Caller [Incident]    Assignment group Department       Short description  \\\n",
       "0         Brian Conrad  GSO - Service Desk       IFBG             login issue   \n",
       "1           Kim Walker  GSO - Service Desk       INBG                 outlook   \n",
       "2  Jaques Van Der Berg  GSO - Service Desk       IFBG            cant log vpn   \n",
       "3         John Johnson  GSO - Service Desk       INBG  unable access adp page   \n",
       "4           Ian Bonnar  GSO - Service Desk        NaN     unable log euremote   \n",
       "\n",
       "                                                                                           Description  \\\n",
       "0  verified user details employee manager checked user ad reset password advised user login check c...   \n",
       "1  received kim walker team meetings skype meetings etc appearing outlook calendar somebody please ...   \n",
       "2  received jaques vanderberg cannot log vpn s jaques van der berg field sales engineer qld earthwo...   \n",
       "3                                                                               unable access adp page   \n",
       "4                                                                                  unable log euremote   \n",
       "\n",
       "                                                                                               SD - DD  \\\n",
       "0  login issue - verified user details employee manager checked user ad reset password advised user...   \n",
       "1  outlook - received kim walker team meetings skype meetings etc appearing outlook calendar somebo...   \n",
       "2  cant log vpn - received jaques vanderberg cannot log vpn s jaques van der berg field sales engin...   \n",
       "3                                                      unable access adp page - unable access adp page   \n",
       "4                                                            unable log euremote - unable log euremote   \n",
       "\n",
       "                                                                                      SD - DD - Caller  \\\n",
       "0  login issue - verified user details employee manager checked user ad reset password advised user...   \n",
       "1  outlook - received kim walker team meetings skype meetings etc appearing outlook calendar somebo...   \n",
       "2  cant log vpn - received jaques vanderberg cannot log vpn s jaques van der berg field sales engin...   \n",
       "3                                       unable access adp page - unable access adp page - John Johnson   \n",
       "4                                               unable log euremote - unable log euremote - Ian Bonnar   \n",
       "\n",
       "                                                                                        SD - DD - Dept  \\\n",
       "0  login issue - verified user details employee manager checked user ad reset password advised user...   \n",
       "1  outlook - received kim walker team meetings skype meetings etc appearing outlook calendar somebo...   \n",
       "2  cant log vpn - received jaques vanderberg cannot log vpn s jaques van der berg field sales engin...   \n",
       "3                                               unable access adp page - unable access adp page - INBG   \n",
       "4                                                                                                  The   \n",
       "\n",
       "                                                                               SD - DD - Caller - Dept  \\\n",
       "0  login issue - verified user details employee manager checked user ad reset password advised user...   \n",
       "1  outlook - received kim walker team meetings skype meetings etc appearing outlook calendar somebo...   \n",
       "2  cant log vpn - received jaques vanderberg cannot log vpn s jaques van der berg field sales engin...   \n",
       "3                                unable access adp page - unable access adp page - John Johnson - INBG   \n",
       "4                                                                                                  The   \n",
       "\n",
       "   Assignment Group ID  \n",
       "0                   42  \n",
       "1                   42  \n",
       "2                   42  \n",
       "3                   42  \n",
       "4                   42  "
      ]
     },
     "execution_count": 287,
     "metadata": {},
     "output_type": "execute_result"
    }
   ],
   "source": [
    "sn_df1.head()"
   ]
  },
  {
   "cell_type": "code",
   "execution_count": 288,
   "metadata": {},
   "outputs": [
    {
     "data": {
      "text/plain": [
       "0    login issue - verified user details employee manager checked user ad reset password advised user...\n",
       "Name: SD - DD, dtype: object"
      ]
     },
     "execution_count": 288,
     "metadata": {},
     "output_type": "execute_result"
    }
   ],
   "source": [
    "sn_df1[\"SD - DD\"].head(1)"
   ]
  },
  {
   "cell_type": "code",
   "execution_count": null,
   "metadata": {},
   "outputs": [],
   "source": [
    "### By doing EDA analysis....\n",
    "from sklearn.linear_model import LogisticRegression\n",
    "X = sn_df1[\"SD - DD\"]\n",
    "y = sn_df1[\"Assignment Group ID\"]\n",
    "X_train, X_test, y_train, y_test = train_test_split(X, y, test_size=.3, random_state=11)\n",
    "logreg = Pipeline([('vect', CountVectorizer()),\n",
    "                ('clf', LogisticRegression()),\n",
    "               ])\n",
    "logreg.fit(X_train, y_train)\n",
    "y_pred_class_test = logreg.predict(X_test)\n",
    "\n",
    "print(\"Train Accuracy - \",logreg.score(X_train, y_train)*100)\n",
    "print(\"Test Accuracy - \",metrics.accuracy_score(y_test, y_pred_class_test)*100)\n",
    "\n",
    "# Validation data that is unseen by the model earlier\n",
    "X_val = df_val1[\"SD - DD\"]\n",
    "y_val = df_val1[\"Assignment group IDs\"]\n",
    "#X_val_dtm = vect.transform(X_val)\n",
    "y_pred_class_val = logreg.predict(X_val) \n",
    "print(\"Validation Data Set Accuracy (Unseen data by the model - \",metrics.accuracy_score(y_val, y_pred_class_val)*100)\n",
    "cohen_score = cohen_kappa_score(y_val, y_pred_class_val)\n",
    "print(\"cohen_score\",cohen_score)\n",
    "#print('accuracy %s' % accuracy_score(y_val, y_pred_class_val))\n",
    "#print(classification_report(y_test, y_pred_class_test))"
   ]
  },
  {
   "cell_type": "code",
   "execution_count": null,
   "metadata": {},
   "outputs": [],
   "source": [
    "### By doing EDA analysis....\n",
    "X = sn_df1[\"SD - DD\"]\n",
    "y = sn_df1[\"Assignment Group ID\"]\n",
    "X_train, X_test, y_train, y_test = train_test_split(X, y, test_size=.3, random_state=42)\n",
    "nb = Pipeline([('vect', CountVectorizer()),\n",
    "               ('clf', MultinomialNB()),\n",
    "              ])\n",
    "nb.fit(X_train, y_train)\n",
    "y_pred_class_test = nb.predict(X_test)\n",
    "\n",
    "print(\"Train Accuracy - \",nb.score(X_train, y_train)*100)\n",
    "print(\"Test Accuracy - \",metrics.accuracy_score(y_test, y_pred_class_test)*100)\n",
    "\n",
    "# Validation data that is unseen by the model earlier\n",
    "X_val = df_val1[\"SD - DD\"]\n",
    "y_val = df_val1[\"Assignment group IDs\"]\n",
    "#X_val_dtm = vect.transform(X_val)\n",
    "y_pred_class_val = nb.predict(X_val) \n",
    "print(\"Validation Data Set Accuracy (Unseen data by the model - \",metrics.accuracy_score(y_val, y_pred_class_val)*100)\n",
    "cohen_score = cohen_kappa_score(y_val, y_pred_class_val)\n",
    "print(\"cohen_score\",cohen_score)\n",
    "#print('accuracy %s' % accuracy_score(y_val, y_pred_class_val))\n",
    "#print(classification_report(y_test, y_pred_class_test))"
   ]
  },
  {
   "cell_type": "code",
   "execution_count": null,
   "metadata": {},
   "outputs": [],
   "source": [
    "### Without doing any EDA analysis and removing the stop words, lower case, ngram (1,2), ascii, max_features = 500000...\n",
    "### Multinomial Naive Bayes\n",
    "X = sn_df1[\"SD - DD\"]\n",
    "y = sn_df1[\"Assignment Group ID\"]\n",
    "X_train, X_test, y_train, y_test = train_test_split(X, y, test_size=.3, random_state=42)\n",
    "nb = Pipeline([('vect', CountVectorizer(stop_words='english',lowercase=True,ngram_range=(1, 2),strip_accents = 'ascii',max_features = 500000)),\n",
    "               ('clf', MultinomialNB()),\n",
    "              ])\n",
    "nb.fit(X_train, y_train)\n",
    "y_pred_class_test = nb.predict(X_test)\n",
    "\n",
    "print(\"Train Accuracy - \",nb.score(X_train, y_train)*100)\n",
    "print(\"Test Accuracy - \",metrics.accuracy_score(y_test, y_pred_class_test)*100)\n",
    "\n",
    "# Validation data that is unseen by the model earlier\n",
    "X_val = df_val1[\"SD - DD\"]\n",
    "y_val = df_val1[\"Assignment group IDs\"]\n",
    "#X_val_dtm = vect.transform(X_val)\n",
    "y_pred_class_val = nb.predict(X_val) \n",
    "print(\"Validation Data Set Accuracy (Unseen data by the model - \",metrics.accuracy_score(y_val, y_pred_class_val)*100)\n",
    "cohen_score = cohen_kappa_score(y_val, y_pred_class_val)\n",
    "print(\"cohen_score\",cohen_score)\n",
    "#print('accuracy %s' % accuracy_score(y_val, y_pred_class_val))\n",
    "#print(classification_report(y_test, y_pred_class_test))"
   ]
  },
  {
   "cell_type": "code",
   "execution_count": null,
   "metadata": {},
   "outputs": [],
   "source": [
    "from sklearn.linear_model import LogisticRegression\n",
    "### Without doing any EDA analysis and removing the stop words, lower case, ngram (1,2), ascii, max_features = 500000...\n",
    "### Logistic Regression\n",
    "X = sn_df1[\"SD - DD - Caller\"]\n",
    "y = sn_df1[\"Assignment Group ID\"]\n",
    "X_train, X_test, y_train, y_test = train_test_split(X, y, test_size=.3, random_state=42)\n",
    "nb = Pipeline([('vect', CountVectorizer(stop_words='english',lowercase=True,ngram_range=(1, 2),strip_accents = 'ascii',max_features = 500000)),\n",
    "               ('clf', LogisticRegression(n_jobs=1, C=1e5)),\n",
    "              ])\n",
    "nb.fit(X_train, y_train)\n",
    "y_pred_class_test = nb.predict(X_test)\n",
    "\n",
    "print(\"Train Accuracy - \",nb.score(X_train, y_train)*100)\n",
    "print(\"Test Accuracy - \",metrics.accuracy_score(y_test, y_pred_class_test)*100)\n",
    "\n",
    "# Validation data that is unseen by the model earlier\n",
    "X_val = df_val1[\"SD - DD - Caller\"]\n",
    "y_val = df_val1[\"Assignment group IDs\"]\n",
    "#X_val_dtm = vect.transform(X_val)\n",
    "y_pred_class_val = nb.predict(X_val) \n",
    "print(\"Validation Data Set Accuracy (Unseen data by the model - \",metrics.accuracy_score(y_val, y_pred_class_val)*100)\n",
    "cohen_score = cohen_kappa_score(y_val, y_pred_class_val)\n",
    "print(\"cohen_score\",cohen_score)\n",
    "#print('accuracy %s' % accuracy_score(y_val, y_pred_class_val))\n",
    "#print(classification_report(y_test, y_pred_class_test))"
   ]
  },
  {
   "cell_type": "code",
   "execution_count": null,
   "metadata": {},
   "outputs": [],
   "source": [
    "### TFIDF Vectorizer, No EDA analysis...\n",
    "X = sn_df1[\"SD - DD - Caller\"]\n",
    "y = sn_df1[\"Assignment Group ID\"]\n",
    "X_train, X_test, y_train, y_test = train_test_split(X, y, test_size=.3, random_state=42)\n",
    "nb = Pipeline([('vect', TfidfVectorizer()),\n",
    "               ('clf', MultinomialNB()),\n",
    "              ])\n",
    "nb.fit(X_train, y_train)\n",
    "\n",
    "nb.fit(X_train, y_train)\n",
    "y_pred_class_test = nb.predict(X_test)\n",
    "\n",
    "print(\"Train Accuracy - \",nb.score(X_train, y_train)*100)\n",
    "print(\"Test Accuracy - \",metrics.accuracy_score(y_test, y_pred_class_test)*100)\n",
    "\n",
    "# Validation data that is unseen by the model earlier\n",
    "X_val = df_val1[\"SD - DD - Caller\"]\n",
    "y_val = df_val1[\"Assignment group IDs\"]\n",
    "#X_val_dtm = vect.transform(X_val)\n",
    "y_pred_class_val = nb.predict(X_val) \n",
    "print(\"Validation Data Set Accuracy (Unseen data by the model - \",metrics.accuracy_score(y_val, y_pred_class_val)*100)\n",
    "cohen_score = cohen_kappa_score(y_val, y_pred_class_val)\n",
    "print(\"cohen_score\",cohen_score)\n",
    "#print('accuracy %s' % accuracy_score(y_val, y_pred_class_val))\n",
    "#print(classification_report(y_test, y_pred_class_test))"
   ]
  },
  {
   "cell_type": "code",
   "execution_count": 289,
   "metadata": {},
   "outputs": [
    {
     "data": {
      "text/plain": [
       "Pipeline(memory=None,\n",
       "     steps=[('vect', CountVectorizer(analyzer='word', binary=False, decode_error='strict',\n",
       "        dtype=<class 'numpy.int64'>, encoding='utf-8', input='content',\n",
       "        lowercase=True, max_df=1.0, max_features=500000, min_df=1,\n",
       "        ngram_range=(1, 2), preprocessor=None, stop_words='english',\n",
       "      ...dom_state=42, shuffle=True, tol=None,\n",
       "       validation_fraction=0.1, verbose=0, warm_start=False))])"
      ]
     },
     "execution_count": 289,
     "metadata": {},
     "output_type": "execute_result"
    }
   ],
   "source": [
    "### SGD Classifier with Count Vect, No EDA analysis...\n",
    "from sklearn.linear_model import SGDClassifier\n",
    "X = sn_df1[\"SD - DD - Caller\"]\n",
    "y = sn_df1[\"Assignment Group ID\"]\n",
    "X_train, X_test, y_train, y_test = train_test_split(X, y, test_size=.3, random_state=42)\n",
    "sgd = Pipeline([('vect', CountVectorizer(stop_words='english',lowercase=True,ngram_range=(1, 2),strip_accents = 'ascii',max_features = 500000)),\n",
    "                ('clf', SGDClassifier(loss='hinge', penalty='l2',alpha=1e-3, random_state=42, max_iter=5, tol=None)),\n",
    "               ])\n",
    "sgd.fit(X_train, y_train)"
   ]
  },
  {
   "cell_type": "code",
   "execution_count": 290,
   "metadata": {},
   "outputs": [
    {
     "name": "stdout",
     "output_type": "stream",
     "text": [
      "Train Accuracy -  85.80722479027564\n",
      "Test Accuracy -  74.61051930758988\n",
      "Validation Data Set Accuracy (Unseen data by the model -  74.25529369541812\n",
      "cohen_score 0.6434856110689466\n"
     ]
    }
   ],
   "source": [
    "y_pred_class_test = sgd.predict(X_test)\n",
    "\n",
    "print(\"Train Accuracy - \",sgd.score(X_train, y_train)*100)\n",
    "print(\"Test Accuracy - \",metrics.accuracy_score(y_test, y_pred_class_test)*100)\n",
    "\n",
    "# Validation data that is unseen by the model earlier\n",
    "X_val = df_val1[\"SD - DD - Caller\"]\n",
    "y_val = df_val1[\"Assignment group IDs\"]\n",
    "#X_val_dtm = vect.transform(X_val)\n",
    "y_pred_class_val = sgd.predict(X_val) \n",
    "print(\"Validation Data Set Accuracy (Unseen data by the model - \",metrics.accuracy_score(y_val, y_pred_class_val)*100)\n",
    "cohen_score = cohen_kappa_score(y_val, y_pred_class_val)\n",
    "print(\"cohen_score\",cohen_score)\n",
    "#print('accuracy %s' % accuracy_score(y_val, y_pred_class_val))\n",
    "#print(classification_report(y_test, y_pred_class_test))"
   ]
  },
  {
   "cell_type": "code",
   "execution_count": null,
   "metadata": {},
   "outputs": [],
   "source": [
    "### Gensim without EDA analysis\n",
    "import gensim\n",
    "from gensim.models import Word2Vec\n",
    "from gensim import corpora"
   ]
  },
  {
   "cell_type": "code",
   "execution_count": null,
   "metadata": {},
   "outputs": [],
   "source": [
    "### Word2Vec Model using Google news pre-trained model - No EDA carried out for dataset\n",
    "def word_averaging(wv, words):\n",
    "    all_words, mean = set(), []\n",
    "    \n",
    "    for word in words:\n",
    "        if isinstance(word, np.ndarray):\n",
    "            mean.append(word)\n",
    "        elif word in wv.vocab:\n",
    "            mean.append(wv.syn0norm[wv.vocab[word].index])\n",
    "            all_words.add(wv.vocab[word].index)\n",
    "\n",
    "    if not mean:\n",
    "        logging.warning(\"cannot compute similarity with no input %s\", words)\n",
    "        # FIXME: remove these examples in pre-processing\n",
    "        return np.zeros(wv.vector_size,)\n",
    "\n",
    "    mean = gensim.matutils.unitvec(np.array(mean).mean(axis=0)).astype(np.float32)\n",
    "    return mean\n",
    "\n",
    "def  word_averaging_list(wv, text_list):\n",
    "    return np.vstack([word_averaging(wv, post) for post in text_list ])"
   ]
  },
  {
   "cell_type": "code",
   "execution_count": null,
   "metadata": {},
   "outputs": [],
   "source": [
    "def w2v_tokenize_text(text):\n",
    "    tokens = []\n",
    "    for sent in nltk.sent_tokenize(text, language='english'):\n",
    "        for word in nltk.word_tokenize(sent, language='english'):\n",
    "            if len(word) < 2:\n",
    "                continue\n",
    "            tokens.append(word)\n",
    "    return tokens"
   ]
  },
  {
   "cell_type": "code",
   "execution_count": null,
   "metadata": {},
   "outputs": [],
   "source": [
    "wv = gensim.models.KeyedVectors.load_word2vec_format(\"GoogleNews-vectors-negative300.bin.gz\", binary=True)\n",
    "wv.init_sims(replace=True)"
   ]
  },
  {
   "cell_type": "code",
   "execution_count": null,
   "metadata": {},
   "outputs": [],
   "source": [
    "train, test = train_test_split(sn_df1, test_size=0.3, random_state = 42)"
   ]
  },
  {
   "cell_type": "code",
   "execution_count": null,
   "metadata": {},
   "outputs": [],
   "source": [
    "test_tokenized = test.apply(lambda r: w2v_tokenize_text(r['SD - DD - Caller']), axis=1).values\n",
    "train_tokenized = train.apply(lambda r: w2v_tokenize_text(r['SD - DD - Caller']), axis=1).values"
   ]
  },
  {
   "cell_type": "code",
   "execution_count": null,
   "metadata": {},
   "outputs": [],
   "source": [
    "from sklearn.manifold import TSNE\n",
    "model = Word2Vec(train_tokenized,min_count=1)\n",
    "#words = list(model.wv.vocab)\n",
    "words = model.wv.index2word\n",
    "\n",
    "#words = sum([[k] + v for k, v in similar_words.items()], [])\n",
    "wvs = model.wv[words]\n",
    "\n",
    "tsne = TSNE(n_components=2, random_state=0, n_iter=10000, perplexity=2)\n",
    "np.set_printoptions(suppress=True)\n",
    "T = tsne.fit_transform(wvs)\n",
    "labels = words\n",
    "\n",
    "plt.figure(figsize=(14, 8))\n",
    "plt.scatter(T[:, 0], T[:, 1], c='orange', edgecolors='r')\n",
    "for label, x, y in zip(labels, T[:, 0], T[:, 1]):\n",
    "    plt.annotate(label, xy=(x+1, y+1), xytext=(0, 0), textcoords='offset points')"
   ]
  },
  {
   "cell_type": "code",
   "execution_count": null,
   "metadata": {},
   "outputs": [],
   "source": [
    "X_train_word_average = word_averaging_list(wv,train_tokenized)\n",
    "X_test_word_average = word_averaging_list(wv,test_tokenized)"
   ]
  },
  {
   "cell_type": "code",
   "execution_count": null,
   "metadata": {},
   "outputs": [],
   "source": [
    "### SGD Classifier with Count Vect, No EDA analysis...\n",
    "from sklearn.linear_model import SGDClassifier\n",
    "sgd = SGDClassifier(loss='hinge', penalty='l2',alpha=1e-3, random_state=42, max_iter=5, tol=None)\n",
    "sgd.fit(X_train_word_average, train[\"Assignment Group ID\"])"
   ]
  },
  {
   "cell_type": "code",
   "execution_count": null,
   "metadata": {},
   "outputs": [],
   "source": [
    "y_pred_train = sgd.predict(X_train_word_average)"
   ]
  },
  {
   "cell_type": "code",
   "execution_count": null,
   "metadata": {},
   "outputs": [],
   "source": [
    "print('accuracy %s' % accuracy_score(y_pred_train, train[\"Assignment Group ID\"]))"
   ]
  },
  {
   "cell_type": "code",
   "execution_count": null,
   "metadata": {},
   "outputs": [],
   "source": [
    "y_pred = sgd.predict(X_test_word_average)"
   ]
  },
  {
   "cell_type": "code",
   "execution_count": null,
   "metadata": {},
   "outputs": [],
   "source": [
    "print('accuracy %s' % accuracy_score(y_pred, test[\"Assignment Group ID\"]))"
   ]
  },
  {
   "cell_type": "code",
   "execution_count": null,
   "metadata": {},
   "outputs": [],
   "source": [
    "y_pred_class_test = sgd.predict(X_test_word_average)\n",
    "\n",
    "print(\"Train Accuracy - \",sgd.score(X_train_word_average, train[\"Assignment Group ID\"])*100)\n",
    "print(\"Test Accuracy - \",metrics.accuracy_score(y_pred_class_test,test[\"Assignment Group ID\"])*100)\n",
    "\n",
    "# Validation data that is unseen by the model earlier\n",
    "#X_val = df_val1[\"SD - DD - Caller\"]\n",
    "#y_val = df_val1[\"Assignment group IDs\"]\n",
    "#val_tokenized = test.apply(lambda r: w2v_tokenize_text(r['SD - DD - Caller']), axis=1).values\n",
    "#X_val_word_average = word_averaging_list(wv,val_tokenized)\n",
    "#X_val_dtm = vect.transform(X_val)\n",
    "#y_pred_class_val = sgd.predict(X_val_word_average) \n",
    "#print(\"Validation Data Set Accuracy (Unseen data by the model - \",metrics.accuracy_score(y_pred_class_val,y_val)*100)\n",
    "cohen_score = cohen_kappa_score(test[\"Assignment Group ID\"], y_pred_class_test)\n",
    "print(\"cohen_score\",cohen_score)\n",
    "#print('accuracy %s' % accuracy_score(y_val, y_pred_class_val))\n",
    "#print(classification_report(y_test, y_pred_class_test))"
   ]
  },
  {
   "cell_type": "code",
   "execution_count": null,
   "metadata": {},
   "outputs": [],
   "source": [
    "### Neural Network on the dataset without carrying out any EDA...."
   ]
  },
  {
   "cell_type": "code",
   "execution_count": null,
   "metadata": {},
   "outputs": [],
   "source": [
    "import itertools\n",
    "import os\n",
    "\n",
    "%matplotlib inline\n",
    "import matplotlib.pyplot as plt\n",
    "import numpy as np\n",
    "import pandas as pd\n",
    "import tensorflow as tf\n",
    "\n",
    "from sklearn.preprocessing import LabelBinarizer, LabelEncoder\n",
    "from sklearn.metrics import confusion_matrix\n",
    "\n",
    "from tensorflow import keras\n",
    "from keras.models import Sequential\n",
    "from keras.layers import Dense, Activation, Dropout\n",
    "from keras.preprocessing import text, sequence\n",
    "from keras import utils"
   ]
  },
  {
   "cell_type": "code",
   "execution_count": null,
   "metadata": {},
   "outputs": [],
   "source": [
    "train_size = int(len(sn_df1) * .7)\n",
    "print (\"Train size: %d\" % train_size)\n",
    "print (\"Test size: %d\" % (len(sn_df1) - train_size))"
   ]
  },
  {
   "cell_type": "code",
   "execution_count": null,
   "metadata": {},
   "outputs": [],
   "source": [
    "train_x = sn_df1[\"SD - DD - Caller\"][:train_size]\n",
    "train_y = sn_df1[\"Assignment Group ID\"][:train_size]\n",
    "\n",
    "test_x = sn_df1[\"SD - DD - Caller\"][train_size:]\n",
    "test_y = sn_df1[\"Assignment Group ID\"][train_size:]"
   ]
  },
  {
   "cell_type": "code",
   "execution_count": null,
   "metadata": {},
   "outputs": [],
   "source": [
    "from keras.preprocessing import text, sequence\n",
    "max_words = 10000\n",
    "tokenize = text.Tokenizer(num_words=max_words, char_level=False)"
   ]
  },
  {
   "cell_type": "code",
   "execution_count": null,
   "metadata": {},
   "outputs": [],
   "source": [
    "tokenize.fit_on_texts(train_x) # only fit on train\n",
    "X_train = tokenize.texts_to_matrix(train_x)\n",
    "X_test = tokenize.texts_to_matrix(test_x)"
   ]
  },
  {
   "cell_type": "code",
   "execution_count": null,
   "metadata": {},
   "outputs": [],
   "source": [
    "y_train = train_y\n",
    "y_test = test_y"
   ]
  },
  {
   "cell_type": "code",
   "execution_count": null,
   "metadata": {},
   "outputs": [],
   "source": [
    "num_classes = np.max(y_train) + 1\n",
    "y_train = utils.to_categorical(y_train, num_classes)\n",
    "y_test = utils.to_categorical(y_test, num_classes)"
   ]
  },
  {
   "cell_type": "code",
   "execution_count": null,
   "metadata": {},
   "outputs": [],
   "source": [
    "print('x_train shape:', X_train.shape)\n",
    "print('x_test shape:', X_test.shape)\n",
    "print('y_train shape:', y_train.shape)\n",
    "print('y_test shape:', y_test.shape)"
   ]
  },
  {
   "cell_type": "code",
   "execution_count": null,
   "metadata": {},
   "outputs": [],
   "source": [
    "batch_size = 32\n",
    "epochs = 10"
   ]
  },
  {
   "cell_type": "code",
   "execution_count": null,
   "metadata": {},
   "outputs": [],
   "source": [
    "# Build the model\n",
    "model = Sequential()\n",
    "model.add(Dense(512, input_shape=(max_words,)))\n",
    "model.add(Activation('relu'))\n",
    "model.add(Dropout(0.5))\n",
    "model.add(Dense(num_classes))\n",
    "model.add(Activation('softmax'))\n",
    "\n",
    "model.compile(loss='categorical_crossentropy',\n",
    "              optimizer='adam',\n",
    "              metrics=['accuracy'])"
   ]
  },
  {
   "cell_type": "code",
   "execution_count": null,
   "metadata": {},
   "outputs": [],
   "source": [
    "history = model.fit(X_train, y_train,\n",
    "                    batch_size=batch_size,\n",
    "                    epochs=10,\n",
    "                    verbose=1,\n",
    "                    validation_data=(X_test, y_test))"
   ]
  },
  {
   "cell_type": "code",
   "execution_count": null,
   "metadata": {},
   "outputs": [],
   "source": [
    "print(history.history.keys())"
   ]
  },
  {
   "cell_type": "code",
   "execution_count": null,
   "metadata": {},
   "outputs": [],
   "source": [
    "# Get training and test loss histories and also accuracies\n",
    "training_loss = history.history['loss']\n",
    "test_loss = history.history['val_loss']\n",
    "\n",
    "training_acc = history.history['acc']\n",
    "test_acc = history.history['val_acc']\n",
    "\n",
    "# Create count of the number of epochs\n",
    "epoch_count = range(1, len(training_loss) + 1)\n",
    "\n",
    "# Visualize loss history\n",
    "plt.plot(epoch_count, training_loss, 'r--')\n",
    "plt.plot(epoch_count, test_loss, 'b-')\n",
    "plt.legend(['Training Loss', 'Test Loss'])\n",
    "plt.title('Visualize loss history')\n",
    "plt.xlabel('Epoch')\n",
    "plt.ylabel('Loss')\n",
    "plt.show();\n",
    "\n",
    "# Visualize accuracy history\n",
    "plt.plot(epoch_count, training_acc, 'r--')\n",
    "plt.plot(epoch_count, test_acc, 'b-')\n",
    "plt.legend(['Training Accuracy', 'Test Accuracy'])\n",
    "plt.title('Visualize accuracy history')\n",
    "plt.xlabel('Epoch')\n",
    "plt.ylabel('Accuracy')\n",
    "plt.show();"
   ]
  },
  {
   "cell_type": "code",
   "execution_count": null,
   "metadata": {},
   "outputs": [],
   "source": [
    "accuracy = model.evaluate(x=X_train,y=y_train,verbose=0)\n",
    "print(\"Train Model Accuracy: \", accuracy[1])"
   ]
  },
  {
   "cell_type": "code",
   "execution_count": null,
   "metadata": {},
   "outputs": [],
   "source": [
    "accuracy = model.evaluate(x=X_test,y=y_test,verbose=0)\n",
    "print(\"Test Model Accuracy: \", accuracy[1])"
   ]
  },
  {
   "cell_type": "markdown",
   "metadata": {},
   "source": [
    "### Overfit Model"
   ]
  },
  {
   "cell_type": "code",
   "execution_count": null,
   "metadata": {},
   "outputs": [],
   "source": [
    "model.summary()"
   ]
  },
  {
   "cell_type": "code",
   "execution_count": null,
   "metadata": {},
   "outputs": [],
   "source": [
    "# Build the model - with additional layers...\n",
    "model = Sequential()\n",
    "model.add(Dense(units = 1000, activation ='relu', input_shape=(max_words,)))\n",
    "model.add(Dense(units = 750, activation ='relu'))\n",
    "model.add(Dropout(0.5))\n",
    "model.add(Dense(units = 500, activation ='relu'))\n",
    "model.add(Dense(units = 250, activation ='relu'))\n",
    "model.add(Dense(units = num_classes, activation = \"softmax\"))\n",
    "\n",
    "model.compile(loss='categorical_crossentropy',\n",
    "              optimizer='adam',\n",
    "              metrics=['accuracy'])"
   ]
  },
  {
   "cell_type": "code",
   "execution_count": null,
   "metadata": {},
   "outputs": [],
   "source": [
    "history = model.fit(X_train, y_train,\n",
    "                    batch_size=batch_size,\n",
    "                    epochs=10,\n",
    "                    verbose=1,\n",
    "                    validation_data=(X_test, y_test))"
   ]
  },
  {
   "cell_type": "code",
   "execution_count": null,
   "metadata": {},
   "outputs": [],
   "source": [
    "accuracy = model.evaluate(x=X_train,y=y_train,verbose=0)\n",
    "print(\"Train Model Accuracy: \", accuracy[1])"
   ]
  },
  {
   "cell_type": "code",
   "execution_count": null,
   "metadata": {},
   "outputs": [],
   "source": [
    "accuracy = model.evaluate(x=X_test,y=y_test,verbose=0)\n",
    "print(\"Test Model Accuracy: \", accuracy[1])"
   ]
  },
  {
   "cell_type": "markdown",
   "metadata": {},
   "source": [
    "## Gradient Boosting Classifier"
   ]
  },
  {
   "cell_type": "code",
   "execution_count": null,
   "metadata": {
    "scrolled": true
   },
   "outputs": [],
   "source": [
    "X1 = [\"Short description\", \"Description\", \"SD - DD\", \"SD - DD - Caller\"]\n",
    "#print(X.head())\n",
    "y = sn_df1[\"Assignment Group ID\"]\n",
    "# check the shapes of X and y\n",
    "\n",
    "Stat_NLP = []\n",
    "for i in X1:\n",
    "    X = sn_df1[i]\n",
    "    print(\"X - \", i)\n",
    "    X_train, X_test, y_train, y_test = train_test_split(X, y, test_size=.2, random_state=42)\n",
    "    vect = CountVectorizer(stop_words='english',lowercase=True,ngram_range=(1, 2), strip_accents = 'ascii', max_features = 500000)\n",
    "    #vect = CountVectorizer(ngram_range=(1, 2))\n",
    "    Stat_NLP.append(gbc_token(vect, X_train, X_test, y_train, y_test, i))"
   ]
  },
  {
   "cell_type": "code",
   "execution_count": null,
   "metadata": {},
   "outputs": [],
   "source": [
    "from sklearn.multiclass import OneVsRestClassifier\n",
    "from sklearn.svm import SVC, LinearSVC\n",
    "from sklearn.ensemble import GradientBoostingClassifier\n",
    "# define a function that accepts a vectorizer and calculates the accuracy\n",
    "def gbc_token(vect, X_train, X_test, y_train, y_test, feature_name):\n",
    "    vect.fit(X_train)\n",
    "    X_train_dtm = vect.transform(X_train)\n",
    "    #print ('Features: ', X_train_dtm.shape[1])\n",
    "    print(\"Vectorized X_train_shape -\",X_train_dtm.shape)\n",
    "    X_test_dtm = vect.transform(X_test)\n",
    "    \n",
    "    GBC=OneVsRestClassifier(GradientBoostingClassifier()).fit(X_train_dtm,y_train)\n",
    "    \n",
    "    y_pred_class_test = GBC.predict(X_test_dtm)\n",
    "    print(\"Train Accuracy - \",GBC.score(X_train_dtm, y_train)*100)\n",
    "    print(\"Test Accuracy - \",metrics.accuracy_score(y_test, y_pred_class_test)*100)\n",
    "    \n",
    "    # Validation data that is unseen by the model earlier\n",
    "    X_val = df_val1[feature_name]\n",
    "    y_val = df_val1[\"Assignment group IDs\"]\n",
    "    X_val_dtm = vect.transform(X_val)\n",
    "    y_pred_class_val = GBC.predict(X_val_dtm) \n",
    "    print(\"Validation Data Set Accuracy (Unseen data by the model - \",metrics.accuracy_score(y_val, y_pred_class_val)*100)\n",
    "    \n",
    "    return [feature_name, GBC.score(X_train_dtm, y_train)*100, metrics.accuracy_score(y_test, y_pred_class_test)*100, metrics.accuracy_score(y_val, y_pred_class_val)*100]\n",
    "    \n",
    "#     # Predictions\n",
    "#     y_pred = le.inverse_transform(y_pred_class)\n",
    "#     y_test1 = le.inverse_transform(y_test)\n",
    "#     sn_df2 = pd.DataFrame()\n",
    "#     sn_df2[\"y_pred\"] = pd.Series(y_pred)\n",
    "#     sn_df2[\"y_test1\"] =  pd.Series(y_test1)\n",
    "    \n",
    "#     print(sn_df2.shape)\n",
    "#     sn_df2[\"Pred\"] = np.where((sn_df2[\"y_pred\"] == sn_df2[\"y_test1\"]),\"True\",\"False\")\n",
    "#     print(sn_df2[\"Pred\"].value_counts())\n",
    "#     print(\"Accuracy from this dataframe - \",(sn_df2[sn_df2[\"Pred\"]==\"True\"].count()/sn_df2[\"Pred\"].count()))\n",
    "\n"
   ]
  },
  {
   "cell_type": "markdown",
   "metadata": {},
   "source": [
    "## SVM Technique"
   ]
  },
  {
   "cell_type": "code",
   "execution_count": null,
   "metadata": {},
   "outputs": [],
   "source": [
    "X1 = [\"Short description\", \"Description\", \"SD - DD\", \"SD - DD - Caller\"]\n",
    "#print(X.head())\n",
    "y = sn_df1[\"Assignment Group ID\"]\n",
    "# check the shapes of X and y\n",
    "\n",
    "Stat_NLP = []\n",
    "for i in X1:\n",
    "    X = sn_df1[i]\n",
    "    print(\"X - \", i)\n",
    "    X_train, X_test, y_train, y_test = train_test_split(X, y, test_size=.2, random_state=42)\n",
    "    vect = CountVectorizer(stop_words='english',lowercase=True,ngram_range=(1, 2), strip_accents = 'ascii', max_features = 500000)\n",
    "    #vect = CountVectorizer(ngram_range=(1, 2))\n",
    "    Stat_NLP.append(svm_token1(vect, X_train, X_test, y_train, y_test, i))"
   ]
  },
  {
   "cell_type": "code",
   "execution_count": null,
   "metadata": {},
   "outputs": [],
   "source": [
    "from sklearn.multiclass import OneVsRestClassifier\n",
    "from sklearn.svm import SVC, LinearSVC\n",
    "# define a function that accepts a vectorizer and calculates the accuracy\n",
    "def svm_token1(vect, X_train, X_test, y_train, y_test, feature_name):\n",
    "    vect.fit(X_train)\n",
    "    X_train_dtm = vect.transform(X_train)\n",
    "    #print ('Features: ', X_train_dtm.shape[1])\n",
    "    print(\"Vectorized X_train_shape -\",X_train_dtm.shape)\n",
    "    X_test_dtm = vect.transform(X_test)\n",
    "    \n",
    "    SVM=OneVsRestClassifier(SVC()).fit(X_train_dtm,y_train)\n",
    "    \n",
    "    y_pred_class_test = SVM.predict(X_test_dtm)\n",
    "    print(\"Train Accuracy - \",SVM.score(X_train_dtm, y_train)*100)\n",
    "    print(\"Test Accuracy - \",metrics.accuracy_score(y_test, y_pred_class_test)*100)\n",
    "    \n",
    "    # Validation data that is unseen by the model earlier\n",
    "    X_val = df_val1[feature_name]\n",
    "    y_val = df_val1[\"Assignment group IDs\"]\n",
    "    X_val_dtm = vect.transform(X_val)\n",
    "    y_pred_class_val = SVM.predict(X_val_dtm) \n",
    "    print(\"Validation Data Set Accuracy (Unseen data by the model - \",metrics.accuracy_score(y_val, y_pred_class_val)*100)\n",
    "    \n",
    "    return [feature_name, SVM.score(X_train_dtm, y_train)*100, metrics.accuracy_score(y_test, y_pred_class_test)*100, metrics.accuracy_score(y_val, y_pred_class_val)*100]\n",
    "    \n",
    "#     # Predictions\n",
    "#     y_pred = le.inverse_transform(y_pred_class)\n",
    "#     y_test1 = le.inverse_transform(y_test)\n",
    "#     sn_df2 = pd.DataFrame()\n",
    "#     sn_df2[\"y_pred\"] = pd.Series(y_pred)\n",
    "#     sn_df2[\"y_test1\"] =  pd.Series(y_test1)\n",
    "    \n",
    "#     print(sn_df2.shape)\n",
    "#     sn_df2[\"Pred\"] = np.where((sn_df2[\"y_pred\"] == sn_df2[\"y_test1\"]),\"True\",\"False\")\n",
    "#     print(sn_df2[\"Pred\"].value_counts())\n",
    "#     print(\"Accuracy from this dataframe - \",(sn_df2[sn_df2[\"Pred\"]==\"True\"].count()/sn_df2[\"Pred\"].count()))\n",
    "\n"
   ]
  },
  {
   "cell_type": "code",
   "execution_count": null,
   "metadata": {},
   "outputs": [],
   "source": [
    "# define a function that accepts a vectorizer and calculates the accuracy\n",
    "def svm_token(vect, X_train, X_test, y_train, y_test, feature_name):\n",
    "    vect.fit(X_train)\n",
    "    X_train_dtm = vect.transform(X_train)\n",
    "    #print ('Features: ', X_train_dtm.shape[1])\n",
    "    print(\"Vectorized X_train_shape -\",X_train_dtm.shape)\n",
    "    X_test_dtm = vect.transform(X_test)\n",
    "    \n",
    "    SVM = svm.SVC(C=1.0, kernel='linear', degree=2, gamma='auto')\n",
    "    clf = OneVsRestClassifier(base_clf).fit(X_vectorized, y_train)\n",
    "    SVM.fit(X_train_dtm, y_train)\n",
    "    \n",
    "    y_pred_class_test = SVM.predict(X_test_dtm)\n",
    "    print(\"Train Accuracy - \",SVM.score(X_train_dtm, y_train)*100)\n",
    "    print(\"Test Accuracy - \",metrics.accuracy_score(y_test, y_pred_class_test)*100)\n",
    "    \n",
    "    # Validation data that is unseen by the model earlier\n",
    "    X_val = df_val1[feature_name]\n",
    "    y_val = df_val1[\"Assignment group IDs\"]\n",
    "    X_val_dtm = vect.transform(X_val)\n",
    "    y_pred_class_val = SVM.predict(X_val_dtm) \n",
    "    print(\"Validation Data Set Accuracy (Unseen data by the model - \",metrics.accuracy_score(y_val, y_pred_class_val)*100)\n",
    "    \n",
    "    return [feature_name, SVM.score(X_train_dtm, y_train)*100, metrics.accuracy_score(y_test, y_pred_class_test)*100, metrics.accuracy_score(y_val, y_pred_class_val)*100]\n",
    "    \n",
    "#     # Predictions\n",
    "#     y_pred = le.inverse_transform(y_pred_class)\n",
    "#     y_test1 = le.inverse_transform(y_test)\n",
    "#     sn_df2 = pd.DataFrame()\n",
    "#     sn_df2[\"y_pred\"] = pd.Series(y_pred)\n",
    "#     sn_df2[\"y_test1\"] =  pd.Series(y_test1)\n",
    "    \n",
    "#     print(sn_df2.shape)\n",
    "#     sn_df2[\"Pred\"] = np.where((sn_df2[\"y_pred\"] == sn_df2[\"y_test1\"]),\"True\",\"False\")\n",
    "#     print(sn_df2[\"Pred\"].value_counts())\n",
    "#     print(\"Accuracy from this dataframe - \",(sn_df2[sn_df2[\"Pred\"]==\"True\"].count()/sn_df2[\"Pred\"].count()))"
   ]
  },
  {
   "cell_type": "code",
   "execution_count": null,
   "metadata": {},
   "outputs": [],
   "source": []
  },
  {
   "cell_type": "markdown",
   "metadata": {},
   "source": [
    "## Count Vectorizer and TFIDF"
   ]
  },
  {
   "cell_type": "code",
   "execution_count": null,
   "metadata": {},
   "outputs": [],
   "source": [
    "# define a function that accepts a vectorizer and calculates the accuracy\n",
    "def tokenize_test(vect, X_train, X_test, y_train, y_test, feature_name):\n",
    "    df_cr = pd.DataFrame()\n",
    "    vect.fit(X_train)\n",
    "    X_train_dtm = vect.transform(X_train)\n",
    "    #print ('Features: ', X_train_dtm.shape[1])\n",
    "    print(\"Vectorized X_train_shape -\",X_train_dtm.shape)\n",
    "    X_test_dtm = vect.transform(X_test)\n",
    "    \n",
    "    nb = MultinomialNB()    \n",
    "    nb.fit(X_train_dtm, y_train)    \n",
    "    y_pred_class_test = nb.predict(X_test_dtm)\n",
    "    print(\"Train Accuracy - \",nb.score(X_train_dtm, y_train)*100)\n",
    "    print(\"Test Accuracy - \",metrics.accuracy_score(y_test, y_pred_class_test)*100)\n",
    "    \n",
    "    # Validation data that is unseen by the model earlier\n",
    "    X_val = df_val1[feature_name]\n",
    "    y_val = df_val1[\"Assignment group IDs\"]\n",
    "    X_val_dtm = vect.transform(X_val)\n",
    "    y_pred_class_val = nb.predict(X_val_dtm) \n",
    "    print(\"Validation Data Set Accuracy (Unseen data by the model - \",metrics.accuracy_score(y_val, y_pred_class_val)*100)\n",
    "    df_cr = classification_report(y_val, y_pred_class_val) \n",
    "    print(df_cr)\n",
    "    print(type(df_cr))\n",
    "    cohen_score = cohen_kappa_score(y_val, y_pred_class_val)\n",
    "    print(\"cohen_score\",cohen_score)\n",
    "    df_cr.to_csv(\"Classification Report.csv\")\n",
    "    \n",
    "    \n",
    "    return [feature_name, nb.score(X_train_dtm, y_train)*100, metrics.accuracy_score(y_test, y_pred_class_test)*100, metrics.accuracy_score(y_val, y_pred_class_val)*100]\n",
    "    \n",
    "#     # Predictions\n",
    "#     y_pred = le.inverse_transform(y_pred_class)\n",
    "#     y_test1 = le.inverse_transform(y_test)\n",
    "#     sn_df2 = pd.DataFrame()\n",
    "#     sn_df2[\"y_pred\"] = pd.Series(y_pred)\n",
    "#     sn_df2[\"y_test1\"] =  pd.Series(y_test1)\n",
    "    \n",
    "#     print(sn_df2.shape)\n",
    "#     sn_df2[\"Pred\"] = np.where((sn_df2[\"y_pred\"] == sn_df2[\"y_test1\"]),\"True\",\"False\")\n",
    "#     print(sn_df2[\"Pred\"].value_counts())\n",
    "#     print(\"Accuracy from this dataframe - \",(sn_df2[sn_df2[\"Pred\"]==\"True\"].count()/sn_df2[\"Pred\"].count()))"
   ]
  },
  {
   "cell_type": "markdown",
   "metadata": {},
   "source": [
    "### TFIDF"
   ]
  },
  {
   "cell_type": "code",
   "execution_count": null,
   "metadata": {},
   "outputs": [],
   "source": [
    "X1 = [\"Short description\", \"Description\", \"SD - DD\", \"SD - DD - Caller\"]\n",
    "#print(X.head())\n",
    "y = sn_df1[\"Assignment Group ID\"]\n",
    "# check the shapes of X and y\n",
    "\n",
    "Stat_NLP = []\n",
    "for i in X1:\n",
    "    X = sn_df1[i]\n",
    "    print(\"X - \", i)\n",
    "    X_train, X_test, y_train, y_test = train_test_split(X, y, test_size=.2, random_state=42)\n",
    "    vect = TfidfVectorizer()\n",
    "    #vect = CountVectorizer(ngram_range=(1, 2))\n",
    "    Stat_NLP.append(tokenize_test(vect, X_train, X_test, y_train, y_test, i))"
   ]
  },
  {
   "cell_type": "markdown",
   "metadata": {},
   "source": [
    "### Count Vectorizer"
   ]
  },
  {
   "cell_type": "code",
   "execution_count": null,
   "metadata": {},
   "outputs": [],
   "source": [
    "X1 = [\"Short description\", \"Description\", \"SD - DD\", \"SD - DD - Caller\"]\n",
    "#print(X.head())\n",
    "y = sn_df1[\"Assignment Group ID\"]\n",
    "# check the shapes of X and y\n",
    "\n",
    "Stat_NLP = []\n",
    "for i in X1:\n",
    "    X = sn_df1[i]\n",
    "    print(\"X - \", i)\n",
    "    X_train, X_test, y_train, y_test = train_test_split(X, y, test_size=.2, random_state=42)\n",
    "    vect = CountVectorizer()\n",
    "    #vect = CountVectorizer(ngram_range=(1, 2))\n",
    "    Stat_NLP.append(tokenize_test(vect, X_train, X_test, y_train, y_test, i))"
   ]
  },
  {
   "cell_type": "code",
   "execution_count": null,
   "metadata": {},
   "outputs": [],
   "source": [
    "X1 = [\"Short description\", \"Description\", \"SD - DD\", \"SD - DD - Caller\"]\n",
    "#print(X.head())\n",
    "y = sn_df1[\"Assignment Group ID\"]\n",
    "# check the shapes of X and y\n",
    "\n",
    "Stat_NLP = []\n",
    "for i in X1:\n",
    "    X = sn_df1[i]\n",
    "    print(\"X - \", i)\n",
    "    X_train, X_test, y_train, y_test = train_test_split(X, y, test_size=.2, random_state=42)\n",
    "    vect = CountVectorizer(stop_words='english',lowercase=True,ngram_range=(1, 2))\n",
    "    #vect = CountVectorizer(ngram_range=(1, 2))\n",
    "    Stat_NLP.append(tokenize_test(vect, X_train, X_test, y_train, y_test, i))"
   ]
  },
  {
   "cell_type": "code",
   "execution_count": null,
   "metadata": {},
   "outputs": [],
   "source": [
    "X1 = [\"Short description\", \"Description\", \"SD - DD\", \"SD - DD - Caller\", \"SD - DD - Dept\", \"SD - DD - Caller - Dept\"]\n",
    "#print(X.head())\n",
    "y = sn_df1[\"Assignment Group ID\"]\n",
    "# check the shapes of X and y\n",
    "\n",
    "Stat_NLP = []\n",
    "for i in X1:\n",
    "    X = sn_df1[i]\n",
    "    print(\"X - \", i)\n",
    "    X_train, X_test, y_train, y_test = train_test_split(X, y, test_size=.2, random_state=42)\n",
    "    vect = CountVectorizer(stop_words='english',lowercase=True,ngram_range=(1, 2), strip_accents = 'ascii', max_features = 500000)\n",
    "    #vect = CountVectorizer(ngram_range=(1, 2))\n",
    "    Stat_NLP.append(tokenize_test(vect, X_train, X_test, y_train, y_test, i))"
   ]
  },
  {
   "cell_type": "code",
   "execution_count": null,
   "metadata": {},
   "outputs": [],
   "source": [
    "X1 = [\"SD - DD - Caller\"]\n",
    "#print(X.head())\n",
    "y = sn_df1[\"Assignment Group ID\"]\n",
    "# check the shapes of X and y\n",
    "\n",
    "Stat_NLP = []\n",
    "for i in X1:\n",
    "    X = sn_df1[i]\n",
    "    print(\"X - \", i)\n",
    "    X_train, X_test, y_train, y_test = train_test_split(X, y, test_size=.2, random_state=42)\n",
    "    vect = CountVectorizer(stop_words='english',lowercase=True,ngram_range=(1, 2), strip_accents = 'ascii', max_features = 500000)\n",
    "    #vect = CountVectorizer(ngram_range=(1, 2))\n",
    "    Stat_NLP.append(tokenize_test(vect, X_train, X_test, y_train, y_test, i))"
   ]
  },
  {
   "cell_type": "code",
   "execution_count": null,
   "metadata": {},
   "outputs": [],
   "source": [
    "sn_df1.head()"
   ]
  },
  {
   "cell_type": "code",
   "execution_count": null,
   "metadata": {},
   "outputs": [],
   "source": []
  },
  {
   "cell_type": "code",
   "execution_count": null,
   "metadata": {},
   "outputs": [],
   "source": [
    "X1 = [\"Short description\", \"Description\", \"SD - DD\", \"SD - DD - Caller\"]\n",
    "#print(X.head())\n",
    "y = sn_df1[\"Assignment Group ID\"]\n",
    "# check the shapes of X and y\n",
    "\n",
    "Stat_NLP = []\n",
    "for i in X1:\n",
    "    X = sn_df1[i]\n",
    "    print(\"X - \", i)\n",
    "    X_train, X_test, y_train, y_test = train_test_split(X, y, test_size=.2, random_state=42)\n",
    "    vect = CountVectorizer(stop_words='english',lowercase=True,ngram_range=(1, 3), strip_accents = 'ascii', max_features = 900000)\n",
    "    #vect = CountVectorizer(ngram_range=(1, 2))\n",
    "    Stat_NLP.append(tokenize_test(vect, X_train, X_test, y_train, y_test, i))"
   ]
  },
  {
   "cell_type": "code",
   "execution_count": null,
   "metadata": {},
   "outputs": [],
   "source": [
    "# from the above data , create a new dataframe with all Training & Test accuracy scores along with Train & Test Errors\n",
    "con_df = pd.DataFrame(Stat_NLP)\n",
    "con_df.rename(columns={0: 'Feature', 1: 'Training Model Accuracy Score', 2: 'Testing Model Accuracy Score', 3: 'Validation Model Accuracy Score (unseen)'}, inplace=True)\n",
    "con_df.head()"
   ]
  },
  {
   "cell_type": "markdown",
   "metadata": {},
   "source": [
    "## Stemming using Porter Stemmer"
   ]
  },
  {
   "cell_type": "code",
   "execution_count": null,
   "metadata": {},
   "outputs": [],
   "source": [
    "#porter_stemmer=PorterStemmer()\n",
    "porter_stemmer=SnowballStemmer(\"english\")\n",
    "def stem_sentences(sentence):\n",
    "    tokens = sentence.split()\n",
    "    stemmed_tokens = [porter_stemmer.stem(token) for token in tokens]\n",
    "    return ' '.join(stemmed_tokens)"
   ]
  },
  {
   "cell_type": "code",
   "execution_count": null,
   "metadata": {},
   "outputs": [],
   "source": [
    "X1 = [\"Short description\", \"Description\", \"SD - DD\", \"SD - DD - Caller\"]\n",
    "#print(X.head())\n",
    "y = sn_df1[\"Assignment Group ID\"]\n",
    "# check the shapes of X and y\n",
    "\n",
    "Stat_NLP = []\n",
    "for i in X1:\n",
    "    X = sn_df1[i].apply(stem_sentences)\n",
    "    print(\"X - \", i)\n",
    "    X_train, X_test, y_train, y_test = train_test_split(X, y, test_size=.2, random_state=42)\n",
    "    vect = CountVectorizer(stop_words='english',lowercase=True,ngram_range=(1, 2), strip_accents = 'ascii', max_features = 500000)\n",
    "    #vect = CountVectorizer(ngram_range=(1, 2))\n",
    "    Stat_NLP.append(tokenize_test1(vect, X_train, X_test, y_train, y_test, i))"
   ]
  },
  {
   "cell_type": "code",
   "execution_count": null,
   "metadata": {},
   "outputs": [],
   "source": [
    "# define a function that accepts a vectorizer and calculates the accuracy\n",
    "def tokenize_test1(vect, X_train, X_test, y_train, y_test, feature_name):\n",
    "    vect.fit(X_train)\n",
    "    X_train_dtm = vect.transform(X_train)\n",
    "    #print ('Features: ', X_train_dtm.shape[1])\n",
    "    print(\"Vectorized X_train_shape -\",X_train_dtm.shape)\n",
    "    X_test_dtm = vect.transform(X_test)\n",
    "    \n",
    "    nb = MultinomialNB()    \n",
    "    nb.fit(X_train_dtm, y_train)\n",
    "    \n",
    "    y_pred_class_test = nb.predict(X_test_dtm)\n",
    "    print(\"Train Accuracy - \",nb.score(X_train_dtm, y_train)*100)\n",
    "    print(\"Test Accuracy - \",metrics.accuracy_score(y_test, y_pred_class_test)*100)\n",
    "    \n",
    "    # Validation data that is unseen by the model earlier\n",
    "    X_val = df_val1[feature_name].apply(stem_sentences)\n",
    "    y_val = df_val1[\"Assignment group IDs\"]\n",
    "    X_val_dtm = vect.transform(X_val)\n",
    "    y_pred_class_val = nb.predict(X_val_dtm) \n",
    "    print(\"Validation Data Set Accuracy (Unseen data by the model - \",metrics.accuracy_score(y_val, y_pred_class_val)*100)\n",
    "    \n",
    "    return [feature_name, nb.score(X_train_dtm, y_train)*100, metrics.accuracy_score(y_test, y_pred_class_test)*100, metrics.accuracy_score(y_val, y_pred_class_val)*100]\n",
    "    \n",
    "#     # Predictions\n",
    "#     y_pred = le.inverse_transform(y_pred_class)\n",
    "#     y_test1 = le.inverse_transform(y_test)\n",
    "#     sn_df2 = pd.DataFrame()\n",
    "#     sn_df2[\"y_pred\"] = pd.Series(y_pred)\n",
    "#     sn_df2[\"y_test1\"] =  pd.Series(y_test1)\n",
    "    \n",
    "#     print(sn_df2.shape)\n",
    "#     sn_df2[\"Pred\"] = np.where((sn_df2[\"y_pred\"] == sn_df2[\"y_test1\"]),\"True\",\"False\")\n",
    "#     print(sn_df2[\"Pred\"].value_counts())\n",
    "#     print(\"Accuracy from this dataframe - \",(sn_df2[sn_df2[\"Pred\"]==\"True\"].count()/sn_df2[\"Pred\"].count()))"
   ]
  },
  {
   "cell_type": "code",
   "execution_count": null,
   "metadata": {},
   "outputs": [],
   "source": [
    "import nltk\n",
    "w_tokenizer = nltk.tokenize.WhitespaceTokenizer()\n",
    "lemmatizer = nltk.stem.WordNetLemmatizer()\n",
    "\n",
    "def lemmatize_text(text):\n",
    "    return [lemmatizer.lemmatize(w) for w in w_tokenizer.tokenize(text)]"
   ]
  },
  {
   "cell_type": "code",
   "execution_count": null,
   "metadata": {},
   "outputs": [],
   "source": [
    "# define a function that accepts text and returns a list of lemmas\n",
    "from textblob import TextBlob, Word\n",
    "def split_into_lemmas(text):\n",
    "    text = text.lower()\n",
    "    words = TextBlob(text).words\n",
    "    return [word.lemmatize() for word in words]"
   ]
  },
  {
   "cell_type": "code",
   "execution_count": null,
   "metadata": {},
   "outputs": [],
   "source": [
    "# define a function that accepts a vectorizer and calculates the accuracy\n",
    "def tokenize_test2(vect, X_train, X_test, y_train, y_test, feature_name):\n",
    "    vect.fit(X_train)\n",
    "    X_train_dtm = vect.transform(X_train)\n",
    "    #print ('Features: ', X_train_dtm.shape[1])\n",
    "    print(\"Vectorized X_train_shape -\",X_train_dtm.shape)\n",
    "    X_test_dtm = vect.transform(X_test)\n",
    "    \n",
    "    nb = MultinomialNB()    \n",
    "    nb.fit(X_train_dtm, y_train)\n",
    "    \n",
    "    y_pred_class_test = nb.predict(X_test_dtm)\n",
    "    print(\"Train Accuracy - \",nb.score(X_train_dtm, y_train)*100)\n",
    "    print(\"Test Accuracy - \",metrics.accuracy_score(y_test, y_pred_class_test)*100)\n",
    "    \n",
    "    # Validation data that is unseen by the model earlier\n",
    "    X_val = df_val1[feature_name].apply(split_into_lemmas)\n",
    "    y_val = df_val1[\"Assignment group IDs\"]\n",
    "    X_val_dtm = vect.transform(X_val)\n",
    "    y_pred_class_val = nb.predict(X_val_dtm) \n",
    "    print(\"Validation Data Set Accuracy (Unseen data by the model - \",metrics.accuracy_score(y_val, y_pred_class_val)*100)\n",
    "    \n",
    "    return [feature_name, nb.score(X_train_dtm, y_train)*100, metrics.accuracy_score(y_test, y_pred_class_test)*100, metrics.accuracy_score(y_val, y_pred_class_val)*100]\n",
    "    \n",
    "#     # Predictions\n",
    "#     y_pred = le.inverse_transform(y_pred_class)\n",
    "#     y_test1 = le.inverse_transform(y_test)\n",
    "#     sn_df2 = pd.DataFrame()\n",
    "#     sn_df2[\"y_pred\"] = pd.Series(y_pred)\n",
    "#     sn_df2[\"y_test1\"] =  pd.Series(y_test1)\n",
    "    \n",
    "#     print(sn_df2.shape)\n",
    "#     sn_df2[\"Pred\"] = np.where((sn_df2[\"y_pred\"] == sn_df2[\"y_test1\"]),\"True\",\"False\")\n",
    "#     print(sn_df2[\"Pred\"].value_counts())\n",
    "#     print(\"Accuracy from this dataframe - \",(sn_df2[sn_df2[\"Pred\"]==\"True\"].count()/sn_df2[\"Pred\"].count()))"
   ]
  },
  {
   "cell_type": "code",
   "execution_count": null,
   "metadata": {
    "scrolled": true
   },
   "outputs": [],
   "source": [
    "X1 = [\"Short description\", \"Description\", \"SD - DD\", \"SD - DD - Caller\"]\n",
    "#print(X.head())\n",
    "y = sn_df1[\"Assignment Group ID\"]\n",
    "# check the shapes of X and y\n",
    "\n",
    "Stat_NLP = []\n",
    "for i in X1:\n",
    "    X = sn_df1[i].apply(split_into_lemmas)\n",
    "    print(\"X - \", i)\n",
    "    X_train, X_test, y_train, y_test = train_test_split(X, y, test_size=.2, random_state=42)\n",
    "    vect = CountVectorizer(stop_words='english',ngram_range=(1, 2), strip_accents = 'ascii', max_features = 500000)\n",
    "    #vect = CountVectorizer(ngram_range=(1, 2))\n",
    "    Stat_NLP.append(tokenize_test2(vect, X_train, X_test, y_train, y_test, i))"
   ]
  },
  {
   "cell_type": "markdown",
   "metadata": {},
   "source": [
    "## Neural Network"
   ]
  },
  {
   "cell_type": "code",
   "execution_count": null,
   "metadata": {},
   "outputs": [],
   "source": [
    "X1 = [\"Short description\", \"Description\", \"SD - DD\", \"SD - DD - Caller\"]\n",
    "#print(X.head())\n",
    "y = sn_df1[\"Assignment Group ID\"]\n",
    "# check the shapes of X and y\n",
    "\n",
    "Stat_NLP = []\n",
    "for i in X1:\n",
    "    X = sn_df1[i]\n",
    "    print(\"X - \", i)\n",
    "    X_train, X_test, y_train, y_test = train_test_split(X, y, test_size=.2, random_state=42)\n",
    "    vect = CountVectorizer(ngram_range=(1, 2))\n",
    "    X_train_dtm = vect.fit_transform(X_train)\n",
    "    #X_test_dtm = vect.fit_transform(X_test)\n",
    "    #Stat_NLP.append(tokenize_test(vect, X_train, X_test, y_train, y_test, i))\n",
    "----------------------------------------\n",
    "from keras.utils import to_categorical\n",
    "y_binary = to_categorical(y_train)\n",
    "------------------------------------------------------\n",
    "from keras.models import Sequential\n",
    "from keras.layers import Dense\n",
    " \n",
    "model = Sequential()\n",
    " \n",
    "model.add(Dense(units=3841, activation='relu', input_dim=len(vect.get_feature_names())))\n",
    "model.add(Dense(units=19, activation='sigmoid'))\n",
    " \n",
    "model.compile(loss='categorical_crossentropy', optimizer='adam', metrics=['accuracy'])\n",
    "model.summary()\n",
    "-----------------------------------------------------\n",
    "model.fit(X_train_dtm[:-100], y_binary[:-100], \n",
    "          epochs=2, batch_size=128, verbose=1, \n",
    "          validation_data=(X_train_dtm[-100:], y_binary[-100:]))"
   ]
  },
  {
   "cell_type": "code",
   "execution_count": null,
   "metadata": {},
   "outputs": [],
   "source": []
  },
  {
   "cell_type": "code",
   "execution_count": null,
   "metadata": {},
   "outputs": [],
   "source": []
  },
  {
   "cell_type": "code",
   "execution_count": null,
   "metadata": {},
   "outputs": [],
   "source": []
  },
  {
   "cell_type": "code",
   "execution_count": null,
   "metadata": {},
   "outputs": [],
   "source": []
  },
  {
   "cell_type": "code",
   "execution_count": null,
   "metadata": {},
   "outputs": [],
   "source": [
    "Trg_acc = nb.score(X_train_dtm, y_train)\n",
    "Test_acc = metrics.accuracy_score(y_test, y_pred_class)\n",
    "Val_acc = metrics.accuracy_score(y_val, y_pred_class1)\n",
    "#print(Trg_acc,Test_acc,Val_acc)\n",
    "# Plotting the accuracy results\n",
    "plt.figure(figsize = (6,4))\n",
    "plt.style.use('seaborn-whitegrid')\n",
    "ax = plt.axes()\n",
    "x = [\"Training Accuracy\" , \"Testing Accuracy\", \"Validation Accuracy\"]\n",
    "y = [Trg_acc*100,Test_acc*100,Val_acc*100]\n",
    "ax.bar(x, y,width=0.5,color='g',align='center')\n",
    "ax.set(ylabel=\"Accuracy %\",title=\"Accuracy scores for X = SD-DD, y = Assignment Group, Model = Multinomial Naive Bayes\")\n",
    "#plt.title(\"Accuracy scores for X = SD-DD, y = Assignment Group, Model = Multinomial Naive Bayes \")\n",
    "#plt.legend()\n",
    "plt.show()"
   ]
  },
  {
   "cell_type": "code",
   "execution_count": null,
   "metadata": {},
   "outputs": [],
   "source": [
    "#BOW with Keras"
   ]
  },
  {
   "cell_type": "code",
   "execution_count": null,
   "metadata": {},
   "outputs": [],
   "source": [
    "import itertools\n",
    "import os\n",
    "\n",
    "%matplotlib inline\n",
    "import matplotlib.pyplot as plt\n",
    "import numpy as np\n",
    "import pandas as pd\n",
    "import tensorflow as tf\n",
    "\n",
    "from sklearn.preprocessing import LabelBinarizer, LabelEncoder\n",
    "from sklearn.metrics import confusion_matrix\n",
    "\n",
    "from tensorflow import keras\n",
    "from keras.models import Sequential\n",
    "from keras.layers import Dense, Activation, Dropout\n",
    "from keras.preprocessing import text, sequence\n",
    "from keras import utils"
   ]
  },
  {
   "cell_type": "code",
   "execution_count": null,
   "metadata": {},
   "outputs": [],
   "source": [
    "\n",
    "train_size = int(len(df6) * .7)\n",
    "print (\"Train size: %d\" % train_size)\n",
    "print (\"Test size: %d\" % (len(df6) - train_size))"
   ]
  },
  {
   "cell_type": "code",
   "execution_count": null,
   "metadata": {},
   "outputs": [],
   "source": [
    "tokenize = text.Tokenizer( char_level=False)"
   ]
  },
  {
   "cell_type": "code",
   "execution_count": null,
   "metadata": {},
   "outputs": [],
   "source": [
    "print(X_train.shape)"
   ]
  },
  {
   "cell_type": "code",
   "execution_count": null,
   "metadata": {},
   "outputs": [],
   "source": [
    "tokenize.fit_on_texts(X_train) # only fit on train\n",
    "x_train = tokenize.texts_to_matrix(X_train)\n",
    "x_test = tokenize.texts_to_matrix(X_test)"
   ]
  },
  {
   "cell_type": "code",
   "execution_count": null,
   "metadata": {},
   "outputs": [],
   "source": []
  },
  {
   "cell_type": "code",
   "execution_count": null,
   "metadata": {},
   "outputs": [],
   "source": []
  }
 ],
 "metadata": {
  "kernelspec": {
   "display_name": "Python 3",
   "language": "python",
   "name": "python3"
  },
  "language_info": {
   "codemirror_mode": {
    "name": "ipython",
    "version": 3
   },
   "file_extension": ".py",
   "mimetype": "text/x-python",
   "name": "python",
   "nbconvert_exporter": "python",
   "pygments_lexer": "ipython3",
   "version": "3.6.8"
  }
 },
 "nbformat": 4,
 "nbformat_minor": 1
}
